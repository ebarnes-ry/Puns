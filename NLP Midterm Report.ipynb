{
 "cells": [
  {
   "cell_type": "markdown",
   "metadata": {},
   "source": [
    "# Subjective Text Classification"
   ]
  },
  {
   "cell_type": "markdown",
   "metadata": {},
   "source": [
    "## I. Introduction\n",
    "\n",
    "### 1.1 Domain-Specific Area \n",
    "\n",
    "Punning is a form of wordplay in which a word is used in a way such that it holds multiple meanings simultaneously, phonetic similarities, or syntactic structures to purposefully introduce ambiguity to express (an often humorous) idea (Miller et al., 2017). The detection and \"disambiguation\" of puns pose significant challenges in natural language processing (NLP) through the inherent importance of context, semantics, and morphological nuance that is often entirely resistent to traditional quantification methods. The task itself of pun detection lies at the crux of of subjective interpretation and semantic disambiguation, making it a valuable and interesting testbed for evaluating models that aim to capture meaning from subjective language. \n",
    "\n",
    "This is a fascinating problem space in itself, and because it not only seeks to improve machine interpretation capabilities for practical purposes - notably machine translation and summarization tasks - but to understand humor and the ways humans convey and interpret meaning. Researchers in linguistics, cognitive psychology, and literary studies have long researched humor and wordplay, and more specifically puns, for their unique applications (Monnot, 1982; Culler, 1988; Lagerwerf, 2002; Bell et al., 2011; Bekinschtein et al., 2011; Delabastita, 1997). Machine translation and, more specifically, humor translation has been an area of minimal research until the popularization of machine learning and AI-driven language interpretation research that opened new scopes that overcame many of the percieved limitations that hindered evaluation. Despite the vast improvements made by transformer models in the area of meaning representation/mapping, a 2018 study by Li et al. showcased how machine translation models struggle and often fail to detect puns specifically, leading to loss of meaning and misinterpretation in translated text (Li et al., 2018). Previous pun detection efforts have historically framed the task as a binary classification problem (pun vs. no pun). While some classical methods relying on handcrafted features that capture phonetic and semantic ambiguity have been attempted, modern approaches largely lean toward leveraging deep embeddings - transformers, contextual word embeddings - to disambiguate text (Popova et al., 2023).\n",
    "\n",
    "As mentioned, puns tend to exploit multiple meanings in language, making them an ideal domain to test a model's ability to handle ambiguous and subtle linguistic phenomena. Applying the results of this task to real-world scenarios like preserving humor and nuance across languages as they are machine translated, automatic curation or generation of headlines to be used by creative industries, and more natural human-computer interactive conversation agents that are capable of recognizing jokes and puns, would both practically improve the scope of these domains and open new spaces for research in adjacent areas (irony detection, sentiment analysis, etc.). By focusing on pun detection, this project provides a comparative lens through which to see how statistical and embedding-based models handle subjective, context-dependent linguistic features.\n",
    "\n",
    "### 1.2 Objectives\n",
    "\n",
    "This report aims to compare how effectively traditional statistical models and embedding-based models, two fundamentally different approaches to text classification, detect and interpret the existence of puns in text. This will be a uniquely challenging task due to the inherent ambiguity and subjectivity of puns, but will also offer a stringent test for each model's ability to capture meaning which in turn offers insight into the trade-offs of each model type in handling linguistic ambiguity. \n",
    "\n",
    "The performance of both models will be evaluated using standard metrics - accuracy, precision, recall, and F1-Score - on both homographic puns where the same word has multiple meanings (e.g. \"The fisherman was hooked\"), and heterographic puns that focus on phonetic similarities between words creating ambiguity (e.g. \"I told a chemistry joke, but there was no reaction\"). Another dimension this project aims to explore is the role of feature engineering and embedding learning. As mentioned, these are approaches grounded in different assumptions and encapsulates the strength that characterises each text classification approach. Logistic regression and handcrafted features geared toward addressing the challenges faced in the past by statistical models, and the SimpleT5 embedding model with task-specific fine-tuning that showcases the strengths of neural representaitons allow for a comprehensive comparison on these bases. \n",
    "\n",
    "A topic becoming of more relevance in many related (and unrelated) domains with the popularization of ML in everyday life is interpretability. As Miller (2017), a prominent figure in literature review for this project, defines it, \"Interpretability is the degree to which a human can understand the cause of a decision\", and, at times, this is just as important as something being correct to the impact of a result (Miller, 2017). It's worth noting the transparency logistic regression provides with its specific feature association, and the black-box nature of models relying on complex neural representaitons. \n",
    "\n",
    "The results of this initial experiment will contribute to broader NLP research and linguistic research as a whole by presenting confirmed results for each model on the task of pun detection that inadvertently showcase the things that drive the ability to interpret puns, and subsequently other subjective language applications. More directly we will demonstrate the limitations of statistical models in handling non-linear linguistic phenomena, and showcase how embedding-based models excel at context-dependent tasks. This framework for comparing statistical and embedding-based approaches in subjectivity-oriented text classification tasks can be applied to humor detection, irony detection, and sarcasm recognition in future expansion. \n"
   ]
  },
  {
   "cell_type": "markdown",
   "metadata": {},
   "source": [
    "### 1.3 The Dataset"
   ]
  },
  {
   "cell_type": "markdown",
   "metadata": {},
   "source": [
    "The dataset selected for this pun detection classification task is the SemEval 2017 Task 7 Dataset which was specifically designed for a shared task on pun detection and interpretation (Miller T. et al., 2017). It's a widely recognized benchmark set in NLP for evaluating systems on their ability to handle linguistic ambiguity and wordplay, and is grounded on a problem-space specification paper published by the Ubiquious Knowledge Processing Lab and Ontological Semantic Technology Lab included with the dataset (Miller T. et al., 2017). It was the most referenced piece in the literature review conducted in exploration of the problem, and has founded many subtask attempts similar to this one that focus on various areas and niches within pun-detection. \n",
    "\n",
    "The paper and dataset were released as part of the SemEval 2017 workshop, a competitive evaluaiton forum for semantic analysis systems(Miller T. et al., 2017). The dataset, gold labels, and scoring system are made publicly available on the official website (Miller T. et al., 2017). \n",
    "\n",
    "The dataset is structured to support three subtasks, per their README also included...\n",
    "1. Subtask 1: Pun Detection - binary classification of sentences as pun or no pun.\n",
    "2. Subtask 2: Pun Location - identifying exact word or phrase responsible for the pun.\n",
    "3. Subtask 3: Pun Interpretation - referencing back to synset word tags to disambiguate meanings. \n",
    "\n",
    "To fit the constraints and scope of this project, this review will focus exclusively on data from Subtask 1, while attempting to create an infrastructure to accomodate future expansion into including the other two subtasks in the analysis.\n",
    "\n",
    "The set is organized into test and trial subfolders, each containing an XML set of each type of pun - homo and heterographic - for each subtask, and a corresponding .gold file that references each record with a manual labeled binary classification (in the case of Subtask 1). "
   ]
  },
  {
   "cell_type": "code",
   "execution_count": 1,
   "metadata": {},
   "outputs": [],
   "source": [
    "import pandas as pd \n",
    "import xml.etree.ElementTree as et\n",
    "from sklearn.model_selection import train_test_split"
   ]
  },
  {
   "cell_type": "markdown",
   "metadata": {},
   "source": [
    "`pandas` is the main data processing and modeling tool for this task\n",
    "\n",
    "`xml` to parse the contents of the xml formed datasets\n",
    "\n",
    "`sklearn.model_selection` for the train test split methods that allow for consistent and even parsing of data"
   ]
  },
  {
   "cell_type": "code",
   "execution_count": 2,
   "metadata": {},
   "outputs": [],
   "source": [
    "def parse_xml(xml_file, pun_type):\n",
    "    try:\n",
    "        tree = et.parse(xml_file)\n",
    "        root = tree.getroot()\n",
    "\n",
    "        data = []\n",
    "        for text in root.findall('.//text'):\n",
    "            sent_id = text.get('id')\n",
    "            words = [word.text for word in text.findall('.//word') if word.text is not None]\n",
    "            sent = ' '.join(words)\n",
    "            data.append({'id': sent_id, 'raw_sentence': sent, 'pun_type': pun_type})\n",
    "\n",
    "        return pd.DataFrame(data)\n",
    "\n",
    "    except Exception as e:\n",
    "        print(f\"Error parsing {xml_file}: {e}\")\n",
    "        return pd.DataFrame(columns=['id', 'sentence', 'pun_type'])"
   ]
  },
  {
   "cell_type": "code",
   "execution_count": 3,
   "metadata": {},
   "outputs": [],
   "source": [
    "def parse_gold(gold_file):\n",
    "    try:\n",
    "        return pd.read_csv(gold_file, sep='\\t', header=None, names=['id', 'pun_label'])\n",
    "    except Exception as e:\n",
    "        print(f\"Error reading {gold_file}: {e}\")\n",
    "        return pd.DataFrame(columns=['id', 'pun_label'])"
   ]
  },
  {
   "cell_type": "code",
   "execution_count": 4,
   "metadata": {},
   "outputs": [],
   "source": [
    "def merge_dataframes(sentences_df, gold_df):\n",
    "    return pd.merge(sentences_df, gold_df, on='id', how='left')"
   ]
  },
  {
   "cell_type": "markdown",
   "metadata": {},
   "source": [
    "To streamline processing, we define methods to parse and merge the data to be used into a single CSV file. The resulting dataset includes fields for...\n",
    "\n",
    "`id` - The sentence ID (e.g. hom_1, or het_123)\n",
    "\n",
    "`raw_sentence` - The original sentence text\n",
    "\n",
    "`pun_label` - Binary classification label (1 for pun, 0 for no pun) taken from the .gold\n",
    "\n",
    "`pun_type` - The type of pun (homographic or heterographic)"
   ]
  },
  {
   "cell_type": "code",
   "execution_count": 5,
   "metadata": {},
   "outputs": [],
   "source": [
    "#file paths to the subtask1 pun data\n",
    "hetero_test_file = '/Users/emmarylab/Desktop/SchoolStuff/Natural Language Processing/Midterm/semeval2017_task7/data/test/subtask1-heterographic-test.xml'\n",
    "homo_test_file = '/Users/emmarylab/Desktop/SchoolStuff/Natural Language Processing/Midterm/semeval2017_task7/data/test/subtask1-homographic-test.xml'\n",
    "hetero_gold_test = '/Users/emmarylab/Desktop/SchoolStuff/Natural Language Processing/Midterm/semeval2017_task7/data/test/subtask1-heterographic-test.gold'\n",
    "homo_gold_test = '/Users/emmarylab/Desktop/SchoolStuff/Natural Language Processing/Midterm/semeval2017_task7/data/test/subtask1-homographic-test.gold'\n",
    "\n",
    "#parse XML and gold data\n",
    "df_hetero = parse_xml(hetero_test_file, 'heterographic')\n",
    "df_homo = parse_xml(homo_test_file, 'homographic')\n",
    "gold_df_hetero = parse_gold(hetero_gold_test)\n",
    "gold_df_homo = parse_gold(homo_gold_test)\n",
    "\n",
    "# combine the dfs\n",
    "df_sentences = pd.concat([df_hetero, df_homo], ignore_index=True)\n",
    "gold_df = pd.concat([gold_df_hetero, gold_df_homo], ignore_index=True)\n",
    "\n",
    "# merge gold with original test data\n",
    "final_df = merge_dataframes(df_sentences, gold_df)\n",
    "\n",
    "# save to csv\n",
    "final_df.to_csv('labeled_pun_data.csv', index=False)"
   ]
  },
  {
   "cell_type": "code",
   "execution_count": 2,
   "metadata": {},
   "outputs": [
    {
     "data": {
      "text/html": [
       "<div>\n",
       "<style scoped>\n",
       "    .dataframe tbody tr th:only-of-type {\n",
       "        vertical-align: middle;\n",
       "    }\n",
       "\n",
       "    .dataframe tbody tr th {\n",
       "        vertical-align: top;\n",
       "    }\n",
       "\n",
       "    .dataframe thead th {\n",
       "        text-align: right;\n",
       "    }\n",
       "</style>\n",
       "<table border=\"1\" class=\"dataframe\">\n",
       "  <thead>\n",
       "    <tr style=\"text-align: right;\">\n",
       "      <th></th>\n",
       "      <th>id</th>\n",
       "      <th>raw_sentence</th>\n",
       "      <th>pun_type</th>\n",
       "      <th>pun_label</th>\n",
       "    </tr>\n",
       "  </thead>\n",
       "  <tbody>\n",
       "    <tr>\n",
       "      <th>0</th>\n",
       "      <td>het_1</td>\n",
       "      <td>' ' I ' m halfway up a mountain , ' ' Tom alle...</td>\n",
       "      <td>heterographic</td>\n",
       "      <td>1</td>\n",
       "    </tr>\n",
       "    <tr>\n",
       "      <th>1</th>\n",
       "      <td>het_2</td>\n",
       "      <td>I ' d like to be a Chinese laborer , said Tom ...</td>\n",
       "      <td>heterographic</td>\n",
       "      <td>1</td>\n",
       "    </tr>\n",
       "    <tr>\n",
       "      <th>2</th>\n",
       "      <td>het_3</td>\n",
       "      <td>No , baby oil does NOT come from squeezing dea...</td>\n",
       "      <td>heterographic</td>\n",
       "      <td>0</td>\n",
       "    </tr>\n",
       "    <tr>\n",
       "      <th>3</th>\n",
       "      <td>het_4</td>\n",
       "      <td>Dentists don ' t like a hard day at the orifice .</td>\n",
       "      <td>heterographic</td>\n",
       "      <td>1</td>\n",
       "    </tr>\n",
       "    <tr>\n",
       "      <th>4</th>\n",
       "      <td>het_5</td>\n",
       "      <td>Are evil wildebeests bad gnus ?</td>\n",
       "      <td>heterographic</td>\n",
       "      <td>1</td>\n",
       "    </tr>\n",
       "  </tbody>\n",
       "</table>\n",
       "</div>"
      ],
      "text/plain": [
       "      id                                       raw_sentence       pun_type  \\\n",
       "0  het_1  ' ' I ' m halfway up a mountain , ' ' Tom alle...  heterographic   \n",
       "1  het_2  I ' d like to be a Chinese laborer , said Tom ...  heterographic   \n",
       "2  het_3  No , baby oil does NOT come from squeezing dea...  heterographic   \n",
       "3  het_4  Dentists don ' t like a hard day at the orifice .  heterographic   \n",
       "4  het_5                    Are evil wildebeests bad gnus ?  heterographic   \n",
       "\n",
       "   pun_label  \n",
       "0          1  \n",
       "1          1  \n",
       "2          0  \n",
       "3          1  \n",
       "4          1  "
      ]
     },
     "execution_count": 2,
     "metadata": {},
     "output_type": "execute_result"
    }
   ],
   "source": [
    "data = pd.read_csv('labeled_pun_data.csv')\n",
    "data.head()"
   ]
  },
  {
   "cell_type": "markdown",
   "metadata": {},
   "source": [
    "The dataset consists of pun and non-pun jokes, amorphisms, and other short sentence-length tests sourced from professional humorists and online collections(Miller T. et al., 2017). Each text contains a maximum of one pun, and each pun (and its latent target) contains exactly one content word (noun, verbm adjective, adverb) and zero or more non-content words (Miller T. et al., 2017). \n",
    "\n",
    "\n",
    "Displaying the general shape, field entities, general statistics, and any missing values is an important step here in outlining the upcoming pre-processing pipelines. To create an understandable summary of the data here, using IPython's display and widgets help to position and organize things a little bit more nicely. "
   ]
  },
  {
   "cell_type": "code",
   "execution_count": 6,
   "metadata": {},
   "outputs": [],
   "source": [
    "from IPython.display import display\n",
    "import ipywidgets as widgets\n",
    "\n",
    "# basic data shape\n",
    "data_shape = pd.DataFrame({\"Metric\": [\"Data shape\"], \"Value\": [data.shape]})\n",
    "\n",
    "# datatypes of columns\n",
    "data_types = pd.DataFrame({\"Column\": data.dtypes.index, \"Datatype\": data.dtypes.values})\n",
    "\n",
    "# statistics for categorical features\n",
    "cat_stats = data.describe(include=['object', 'category']).T.reset_index()\n",
    "cat_stats.rename(columns={\"index\": \"Feature\"}, inplace=True)\n",
    "\n",
    "# any missing values\n",
    "missing_values = pd.DataFrame({\"Column\": data.columns, \"Missing Values\": data.isnull().sum().values})"
   ]
  },
  {
   "cell_type": "code",
   "execution_count": 24,
   "metadata": {},
   "outputs": [
    {
     "data": {
      "application/vnd.jupyter.widget-view+json": {
       "model_id": "a03086b1f3f7461bad900def8ee46504",
       "version_major": 2,
       "version_minor": 0
      },
      "text/plain": [
       "HBox(children=(Output(), Output(), Output(), Output()))"
      ]
     },
     "metadata": {},
     "output_type": "display_data"
    }
   ],
   "source": [
    "# display the tables\n",
    "shape_widget = widgets.Output()\n",
    "with shape_widget:\n",
    "    display(data_shape)\n",
    "\n",
    "types_widget = widgets.Output()\n",
    "with types_widget:\n",
    "    display(data_types)\n",
    "\n",
    "missing_widget = widgets.Output()\n",
    "with missing_widget:\n",
    "    display(missing_values)\n",
    "\n",
    "stats_widget = widgets.Output()\n",
    "with stats_widget:\n",
    "    display(cat_stats.head())\n",
    "\n",
    "# HBox to align widgets side by side\n",
    "side_by_side = widgets.HBox([shape_widget, types_widget, missing_widget, stats_widget])\n",
    "\n",
    "# display the widgets\n",
    "display(side_by_side)"
   ]
  },
  {
   "cell_type": "markdown",
   "metadata": {},
   "source": [
    "The same training, validation, and test subsets of the data will be used across models for consistent comparison across each model's performance. A stratified split by the pun label ensures the distribution is as even as possible across sets. \n",
    "\n",
    "=Original Total - 4030 records========================================================\n",
    "\n",
    "---------Test 20% - 806 records----------|-----------Train/Validation Split 80% - 3224 records---------\n",
    "\n",
    "\n"
   ]
  },
  {
   "cell_type": "markdown",
   "metadata": {},
   "source": [
    "=Train/Validation Split 80% - 3224 records============================================\n",
    "\n",
    "----Validation 20% - 645 records-----------------|-------------------Training 80% - 2579 records----"
   ]
  },
  {
   "cell_type": "code",
   "execution_count": 7,
   "metadata": {},
   "outputs": [],
   "source": [
    "# stratified split: further divide train_val into train (80%) and validation (20%)\n",
    "train_val_df, test_df = train_test_split(data, test_size=0.2, stratify=data[\"pun_label\"], random_state=42)\n",
    "train_df, val_df = train_test_split(train_val_df, test_size=0.2, stratify=train_val_df[\"pun_label\"], random_state=42)\n",
    "\n",
    "test_df.to_csv('test_data.csv', index=False)\n",
    "val_df.to_csv('validation_data.csv', index=False)\n",
    "train_df.to_csv('training_data.csv', index=False)"
   ]
  },
  {
   "cell_type": "markdown",
   "metadata": {},
   "source": [
    "Overall, the SemEval 2017 Task 7 dataset being a recognized benchmark for evaluating models with a balanced structure ensure fair comparisons that suit the goals of this project. The data itself consists of real-world examples of both homographic and heterographic puns, allowing for robust analysis and applicability, and can be used as reference or to even train for other relevant tasks such as sarcasm detection, humor analysis, or sentiment analysis."
   ]
  },
  {
   "cell_type": "markdown",
   "metadata": {},
   "source": [
    "### 1.4 Evaluation"
   ]
  },
  {
   "cell_type": "markdown",
   "metadata": {},
   "source": [
    "The primary metrics used to evaluate the models include...\n",
    "\n",
    "`Accuracy` - The proportion of correct predictions - both pun and non-pun - out of all predictions made. \n",
    "- Accuracy = (True Positives + True Negatives) / Total Instances\n",
    "This will provide a general measure of overall model performance. It has the potential to be misleading for imbalanced datasets, but I have implemented measures against this.\n",
    "\n",
    "`Precision` - The proportion of correctly predicted puns out of all predicted puns. \n",
    "- Precision = True Positives / (True Positives + False Positives)\n",
    "This indicates the reliability of the model's ability to predict puns.\n",
    "\n",
    "`Recall` - The \"sensitivity\" that measures the proportion of acutal puns correctly identified by the model.\n",
    "- Recall = True Positives / (True Positives + False Negatives)\n",
    "\n",
    "`F1-Score` - The harmonic mean of precision and recall, a single metric that balances both.\n",
    "- F1 = 2 * ((Precision * Recall) / (Precision + Recall))\n",
    "\n",
    "Pun detection is a binary classification task where false positives and false negatives have different implications. Precision and recall help to evaluate the trade-off between these errors, and F1 introduces a balanced view.\n",
    "\n",
    "I'll start performance evaluation with a confusion matrix for each model - True Positives, False Positives, True Negatives, and False Negatives. Then I can use scikit-learn's built in metrics to accurately compute metrics for each model's predictions and compare across models in a full-scope evaluation. \n",
    "\n",
    "I want to focus on 4 features of each model in my evaluation...\n",
    "\n",
    "**Performance Metrics** - By comparing precision, recall, and F1-score, noting trade-offs. \n",
    "- Does SimpleT5 outperform Logistic Regression significantly, or is the improvement marginal?\n",
    "- Does Naive Bayes provideo a reasonable baseline, or does it fail to capture key parameters?\n",
    "\n",
    "**Error Analysis** - Examining the failiure cases.\n",
    "- Are Logistic Regression and Naive Bayes struggling in certain areas?\n",
    "- Do the mistakes SimpleT5 make contextually make sense?\n",
    "\n",
    "**Resource Efficiency** - Comparing the computational cost of training and inference for each model.\n",
    "\n",
    "**Interpretability** - How traceable are the results? Can we understand why a result is a result?"
   ]
  },
  {
   "cell_type": "markdown",
   "metadata": {},
   "source": [
    "## II. Implementation"
   ]
  },
  {
   "cell_type": "markdown",
   "metadata": {},
   "source": [
    "Through exploration into the existing research space around model performance in this task noted the use and comparison of multiple variations of both traditional statistical and embedding-based language models. While recent research has shifted toward embedding-based approaches, statistical methods have remained relevant thanks to their interpretability and adaptability. \n",
    "\n",
    "Transformer-based models such as BERT, T5, and variations have been found to capture nuanced relationships in text(Gepalova, A. et al., 2024). While determined a powerful approach, these models often struggled with deliberate ambiguity and overfitting of literal interpretations without going far enough to recognize dual meanings in wordplay(Gepalova, A. et al., 2024). They are also heavily resource dependent, and can be less accessible and computationally expensive to extend to more than one task, and lack interpretability with their opaque predictions.\n",
    "\n",
    "Some of the inspiration for evaluating a logistic regression model came from a supervised pun detection and location disambiguation attempt done by Feng et al. in 2020. Their approach outlined using targeted feature engineering to cover pitfalls of statistical approaches, tracing back the influence of each feature from the results (Fengm J. et al., 2020). There have been other notable attempts to abstract this task statisticaly - starting in 2004, Taylor and Mazlack used N-grams to recognize and locate wordplay (Rayz, J.T. et al., 2004). In 2015 Miller and Gurevuch (2015) theorized on knowledge-based Word Sense Disambiguation (WSD) to disambiguate the meaning of puns that were identified (Miller T., Gurevuch, 2015). This particular study led to a novel hypothesis on using WSD for pun, and more broadly subjective text, detection - not just interpretation as has been reviewed. Feng (2020) focuses on establishing features that could be of consequence, which inspired the idea that with the right comprehensive \"feature model\", that covers all bases of the challenge, the problem can be translated into one better suited to a statistical model. \n",
    "\n",
    "Hypothesis under which to structure implementation...\n",
    "- Embedding models such as SimpleT5 will outperform statistical models with their ability to both generalize and capture relationships in context dynamically. \n",
    "\n",
    "- Statistical logistic regression approaches will likely underperform, but will potentially provide insight into feature importance and potentially show competitive results with feature engineering geared toward disambiguating linguistic nuance and strucutres. "
   ]
  },
  {
   "cell_type": "markdown",
   "metadata": {},
   "source": [
    "Required libraries and resources include..."
   ]
  },
  {
   "cell_type": "code",
   "execution_count": 3,
   "metadata": {},
   "outputs": [
    {
     "name": "stderr",
     "output_type": "stream",
     "text": [
      "[nltk_data] Downloading package averaged_perceptron_tagger to\n",
      "[nltk_data]     /Users/emmarylab/nltk_data...\n",
      "[nltk_data]   Package averaged_perceptron_tagger is already up-to-\n",
      "[nltk_data]       date!\n",
      "[nltk_data] Downloading package wordnet to\n",
      "[nltk_data]     /Users/emmarylab/nltk_data...\n",
      "[nltk_data]   Package wordnet is already up-to-date!\n",
      "[nltk_data] Downloading package punkt to /Users/emmarylab/nltk_data...\n",
      "[nltk_data]   Package punkt is already up-to-date!\n",
      "[nltk_data] Downloading package punkt_tab to\n",
      "[nltk_data]     /Users/emmarylab/nltk_data...\n",
      "[nltk_data]   Package punkt_tab is already up-to-date!\n",
      "[nltk_data] Downloading package stopwords to\n",
      "[nltk_data]     /Users/emmarylab/nltk_data...\n",
      "[nltk_data]   Package stopwords is already up-to-date!\n"
     ]
    }
   ],
   "source": [
    "import re\n",
    "import math\n",
    "import string\n",
    "import numpy as np\n",
    "import matplotlib.pyplot as plt\n",
    "\n",
    "from sklearn.feature_extraction.text import TfidfVectorizer, CountVectorizer\n",
    "from sklearn.preprocessing import StandardScaler\n",
    "from sklearn.decomposition import PCA\n",
    "from sklearn.model_selection import KFold, cross_validate, cross_val_score\n",
    "from sklearn.naive_bayes import MultinomialNB\n",
    "from sklearn.linear_model import LogisticRegression\n",
    "from sklearn.metrics import accuracy_score, precision_score, recall_score, f1_score, make_scorer\n",
    "\n",
    "from gensim.models.doc2vec import Doc2Vec, TaggedDocument\n",
    "\n",
    "import spacy\n",
    "\n",
    "import nltk\n",
    "from nltk.corpus import wordnet as wn\n",
    "from nltk.corpus import stopwords\n",
    "from nltk.tokenize import word_tokenize\n",
    "from nltk.stem import WordNetLemmatizer\n",
    "from scipy.stats import mannwhitneyu\n",
    "\n",
    "nltk.download('averaged_perceptron_tagger')\n",
    "nltk.download('wordnet')\n",
    "nltk.download('punkt')\n",
    "nltk.download('punkt_tab')\n",
    "nltk.download('stopwords')\n",
    "\n",
    "nlp = spacy.load('en_core_web_sm') #process english structures\n",
    "stop_words = set(stopwords.words('english'))"
   ]
  },
  {
   "cell_type": "markdown",
   "metadata": {},
   "source": [
    "`re` - to handle regex processing of text\n",
    "\n",
    "`math`, `numpy` - to represent equations used and modeled as needed and to reshape data for the various models\n",
    "\n",
    "`matplotlib` - visualization and plotting\n",
    "\n",
    "`sklearn` - the main library used to abstract complex methods for creating feature vectors from text, scaling my feature vectors for log regression, clamping dimensionality, k-fold cross-validation, my statistical models, and evaluation metrics\n",
    "\n",
    "`gensim` - statistically based embedding vectors and document taggers\n",
    "\n",
    "`spacy` - dependency handling\n",
    "\n",
    "`nltk` - main synset reference, lemmatizer, tokenizer, stopword and punctuation reference\n",
    "\n",
    "`scipy` - to evaluate statistical feature significance"
   ]
  },
  {
   "cell_type": "markdown",
   "metadata": {},
   "source": [
    "### 2.1 Preprocessing"
   ]
  },
  {
   "cell_type": "markdown",
   "metadata": {},
   "source": [
    "#### 2.1.1 Data Cleaning\n",
    "\n",
    "Two things to note right away about the sentence data is that because of the way it was stored in the XML structure...\n",
    "1. Contractions such as I'm, it'd, Tom's, etc. are split. i.e. they are stored as \"I ' m\" or \"Tom ' s\". We need to join these to be able to identify and process accordingly.\n",
    "2. Quotations are spaced as double quotations. i.e. an instance of \" is stored as ' '. Standardizing single and double quotations in the text is important for identifying parts of speech and structure.\n",
    "\n",
    "Use some combinations of regular expressions to correct disjoined contracitions and posessives, and handle double single quotes as double quotes. "
   ]
  },
  {
   "cell_type": "code",
   "execution_count": 4,
   "metadata": {},
   "outputs": [],
   "source": [
    "def fix_quotation_marks(sent):\n",
    "    #fixing double quotes\n",
    "    sent = re.sub(r\"^'\\s'|'\\s'$\", '\"', sent)\n",
    "    sent = re.sub(r\"\\b'\\s'|'\\s'\\b\", '\"', sent)\n",
    "    #handle the case of extra space\n",
    "    sent = re.sub(r\"'\\s'\\s\", '\" ', sent)\n",
    "    sent = re.sub(r\"\\s'\\s'\", ' \"', sent)\n",
    "    #handle disjointed contractions with pattern... e.g. look for I ' m and convert to I'm\n",
    "    sent = re.sub(r\"(\\w)\\s'\\s([a-zA-Z])\", r\"\\1'\\2\", sent)\n",
    "    return sent"
   ]
  },
  {
   "cell_type": "markdown",
   "metadata": {},
   "source": [
    "Something to consider about contractions is whether to expand them (e.g. changing \"I'm\" to \"I am\"). An initial thought is that expanding them might alter some of the meaning of the text, as this is figurative language and the contraction might be a part of whatever expression of whatever point the text might be trying to make. Puns rely on phonetics, spelling, and often wordplay that might be altered - e.g. in a sentence like \"I'm punstoppable\", expanding \"I'm\" might disrupt the structure/phonetic flow. \n",
    "\n",
    "- Contextual embeddings handle contractions well, since they're trained on a large corpora and can handle them with their tokenizer - the T5 tokenizer for example splits \"I'm\" into subwords \"I\" and \"m\".\n",
    "\n",
    "- Statistical models don't generally handle contractions well because of the reliance on tokenization methods that might treat contractions as single tokens, which can end up with loss of context and ambiguity. However, I'm going to be doing some feature engineering, where specific nuances that are added in figurative language with punctuation and contractions - such as informality - are important patterns for the model to be able to recognize. \n",
    "\n",
    "For these reasons and to have an even basis for comparison across models, we will keep contractions in their original state, but might revisit this upon initial evaluation. "
   ]
  },
  {
   "cell_type": "code",
   "execution_count": 5,
   "metadata": {},
   "outputs": [],
   "source": [
    "#it's already split by space nicely because of the quotation cleaning, just need to ignore punctuation\n",
    "def tokenize_minus_punct(sent):\n",
    "    return [token for token in sent.split(\" \") if token not in string.punctuation and token.strip(string.punctuation) not in stop_words]"
   ]
  },
  {
   "cell_type": "markdown",
   "metadata": {},
   "source": [
    "Lowering the text ensures that the same words in different cases are treated equally, which prevent data sparsity and duplication, which helps both TF-IDF features and - maybe in some ways - the embeddings. It is helpful to include stopword removeal for features that require quantification of text with less nuance."
   ]
  },
  {
   "cell_type": "markdown",
   "metadata": {},
   "source": [
    "#### 2.1.2 Statistical Model-Specific Preprocessing\n",
    "\n",
    "This evaluation will focus the feature set on three main attributes that define the challenge of pun detection...\n",
    "1. Sentence Representation - The overall semantic content of the sentence.\n",
    "2. Sentence Structure Relationships - Relationships between parts of the sentence.\n",
    "3. Word Meaning (Word Sense Disambiguation) - Ambiguity and diversity of word meanings in context.\n"
   ]
  },
  {
   "cell_type": "code",
   "execution_count": 6,
   "metadata": {},
   "outputs": [],
   "source": [
    "#load in a copy of test, training, and validation data\n",
    "stat_train_df = pd.read_csv('training_data.csv')\n",
    "stat_test_df = pd.read_csv('test_data.csv')\n",
    "stat_val_df = pd.read_csv('validation_data.csv')\n",
    "\n",
    "#apply basic pre-processing\n",
    "stat_train_df['sentence'] = stat_train_df['raw_sentence'].apply(fix_quotation_marks) #fixing spaces between contractions and quotations\n",
    "stat_test_df['sentence'] = stat_test_df['raw_sentence'].apply(fix_quotation_marks)\n",
    "stat_val_df['sentence'] = stat_val_df['raw_sentence'].apply(fix_quotation_marks)\n",
    "stat_train_df['sentence'] = stat_train_df['sentence'].str.lower() #normalizing text to lowercase\n",
    "stat_test_df['sentence'] = stat_test_df['sentence'].str.lower() \n",
    "stat_val_df['sentence'] = stat_val_df['sentence'].str.lower() \n",
    "stat_train_df['tokenized_sentence'] = stat_train_df['sentence'].apply(tokenize_minus_punct) #tokenize and remove punctuation and stopwords\n",
    "stat_test_df['tokenized_sentence'] = stat_test_df['sentence'].apply(tokenize_minus_punct)\n",
    "stat_val_df['tokenized_sentence'] = stat_val_df['sentence'].apply(tokenize_minus_punct)\n"
   ]
  },
  {
   "cell_type": "markdown",
   "metadata": {},
   "source": [
    "**Sentence Representation**\n",
    "\n",
    "TF-IDF (Term Frequency-Inverse Document Frequency) is a proven feature for logistic regression on text that captures a form of a quantifiable version of text. It creates a high-dimensional feature space which can help to capture the nuanced meaning of words based on frequency and rarity, which could be useful where subtle differences can indicate wordplay, though it doesn't capture contextual nuances or deeper semantic relationships. \n",
    "\n",
    "Use with Doc2Vec allows for a richer feature set that captures both statistical significance and semantic meaning (Dessi, D. et al.). Doc2Vec (built off Word2Vec) is a statistical model to generate embeddings with co-occurance statistics and Bag of Words (BoW) methods (Dessi, D. et al.). This combination might cause a high-dimensional feature space which could lead to overfitting and redundancy, so I will use Principle Component Analysis (PCA) on my feature set which should reduce a bit of the dimensionality. \n",
    "\n",
    "Note: Doc2Vec generates embeddings which will be used to enhance the statistical model's ability to work with context. The overall goal of this project is to compare a statistical model with an embedding-based model on a nuanced task such as pun detection. Logistic regression will not modify or adapt the embedding features during training, which is what characterizes hybrid and embedding-focused approaches that inherently learn and adapt to their own embeddings directly (GeeksforGeeks. 2024). The following logistic regression approach still operates on structured features and relies on pre-extracted input features. "
   ]
  },
  {
   "cell_type": "markdown",
   "metadata": {},
   "source": [
    "##### Feature 1: TF-IDF Vectors"
   ]
  },
  {
   "cell_type": "code",
   "execution_count": 7,
   "metadata": {},
   "outputs": [],
   "source": [
    "#use fit_transform on raw docs to learn the vocab and idf and get back the document-term features matrix \n",
    "vectorizer = TfidfVectorizer(max_features=1000) #limit to top 1000 features\n",
    "tfidf_matrix = vectorizer.fit_transform(stat_train_df['sentence'])"
   ]
  },
  {
   "cell_type": "code",
   "execution_count": 8,
   "metadata": {},
   "outputs": [],
   "source": [
    "#test set features for evaluation\n",
    "test_tfidf = vectorizer.transform(stat_test_df['sentence']).toarray()\n",
    "val_tfidf_matrix = vectorizer.transform(stat_val_df['sentence']).toarray()"
   ]
  },
  {
   "cell_type": "markdown",
   "metadata": {},
   "source": [
    "##### Feature 2: Doc2Vec Embeddings"
   ]
  },
  {
   "cell_type": "code",
   "execution_count": 9,
   "metadata": {},
   "outputs": [],
   "source": [
    "#tagging documents and training\n",
    "docs = [TaggedDocument(doc.split(), [i]) for i, doc in enumerate(stat_train_df['sentence'])]\n",
    "doc2vec_model = Doc2Vec(\n",
    "    vector_size=50, #dimensionality of doc vectors\n",
    "    window=2, #max distance between current and predicted word in sentence\n",
    "    min_count=1, #ignores words with frequency lower than 1\n",
    "    workers=4, #cpu cores to use for training\n",
    "    epochs=40 #num of training epochs\n",
    ")\n",
    "#build vocab from tagged sentence data\n",
    "doc2vec_model.build_vocab(docs)\n",
    "#train model on the tagged sentence data\n",
    "doc2vec_model.train(docs, total_examples=doc2vec_model.corpus_count, epochs=doc2vec_model.epochs)\n",
    "#generate the embeddings\n",
    "doc2vec_features = np.array([doc2vec_model.infer_vector(doc.words) for doc in docs])"
   ]
  },
  {
   "cell_type": "code",
   "execution_count": 10,
   "metadata": {},
   "outputs": [],
   "source": [
    "#test set features for evaluation\n",
    "test_docs = [TaggedDocument(doc.split(), [i]) for i, doc in enumerate(stat_test_df['sentence'])]\n",
    "test_doc2vec_features = np.array([doc2vec_model.infer_vector(doc.words) for doc in test_docs])"
   ]
  },
  {
   "cell_type": "code",
   "execution_count": 11,
   "metadata": {},
   "outputs": [],
   "source": [
    "val_docs = [TaggedDocument(doc.split(), [i]) for i, doc in enumerate(stat_val_df['sentence'])]\n",
    "val_doc2vec_features = np.array([doc2vec_model.infer_vector(doc.words) for doc in val_docs])"
   ]
  },
  {
   "cell_type": "markdown",
   "metadata": {},
   "source": [
    "##### Feature 3: Dependency Indicators\n",
    "\n",
    "Specific Dependency Types:\n",
    "\n",
    "- Nominal Subject (nsubj) - is the main topic of a sentence. Puns are usually plays on words involving that subject, so counting this can find patterns in sentences where the subject might be more ambiguous.\n",
    "- Direct Object (dobj) - is the direct object recieving the action of whatever verb. A direct object has homonyms or polysemous meanings can lead to double meanings when combined with certain verbs []. \n",
    "- Adjectival Modifier (amod) - alters the meaning of a noun by describing it. Looking at this might help identify instances where descriptive language can contribute to double meanings.\n",
    "\n",
    "Root Distance: Measuring the distance of each word from the root in the dependency tree to show potential key words having shorter/longer distances to root compared to typical use."
   ]
  },
  {
   "cell_type": "code",
   "execution_count": 12,
   "metadata": {},
   "outputs": [],
   "source": [
    "def get_dependency_features(doc):\n",
    "    features = {}\n",
    "    features['nsubj_count'] = sum(1 for token in doc if token.dep_ == 'nsubj')\n",
    "    features['dobj_count'] = sum(1 for token in doc if token.dep_ == 'dobj')\n",
    "    features['amod_count'] = sum(1 for token in doc if token.dep_ == 'amod')\n",
    "    # average distance between token and its head\n",
    "    features['avg_root_dist'] = np.mean([\n",
    "        abs(token.head.i - token.i) for token in doc\n",
    "    ]) if len(doc) > 0 else 0.0\n",
    "    return features"
   ]
  },
  {
   "cell_type": "code",
   "execution_count": 13,
   "metadata": {},
   "outputs": [],
   "source": [
    "dep_features_list = []\n",
    "for sent in stat_train_df['sentence']:\n",
    "    doc = nlp(sent)\n",
    "    dep_features_list.append(get_dependency_features(doc))\n",
    "dep_features = pd.DataFrame(dep_features_list)"
   ]
  },
  {
   "cell_type": "code",
   "execution_count": 14,
   "metadata": {},
   "outputs": [],
   "source": [
    "#test set features for eval\n",
    "dep_features_list_test = []\n",
    "for sent in stat_test_df['sentence']:\n",
    "    doc = nlp(sent)\n",
    "    dep_features_list_test.append(get_dependency_features(doc))\n",
    "dep_features_test = pd.DataFrame(dep_features_list_test).to_numpy()"
   ]
  },
  {
   "cell_type": "code",
   "execution_count": 15,
   "metadata": {},
   "outputs": [],
   "source": [
    "dep_features_list_val = []\n",
    "for sent in stat_val_df['sentence']:\n",
    "    doc = nlp(sent)\n",
    "    dep_features_list_val.append(get_dependency_features(doc))\n",
    "dep_features_val = pd.DataFrame(dep_features_list_val).to_numpy()"
   ]
  },
  {
   "cell_type": "markdown",
   "metadata": {},
   "source": [
    "##### Feature 4: POS Tags\n",
    "\n",
    "https://aclanthology.org/S17-2073.pdf\n",
    "\n",
    "The distribution of part-of-speech (POS) tags allows the model to account for the arrangement of different parts of speech (such as nouns, verbs, adjectives, etc.) and how frequently they appear in various structures (Feng, J. et al., 2020). Puns play on structural aspects of language, so also drawing on syntactic patterns can help characterise puns (Feng, J. et al., 2020). I'll use POS Tag Sequences (N-grams) for this feature to capture syntactic anomalies that might not be apparent from information on word content. As a bonus, capturing general patterns of language use helps the model to generalize better across differing linguistic styles (Salvatore Attardo, 1994). "
   ]
  },
  {
   "cell_type": "code",
   "execution_count": 16,
   "metadata": {},
   "outputs": [],
   "source": [
    "def get_pos_sequence(sent):\n",
    "    doc = nlp(sent)\n",
    "    return \" \".join(token.pos_ for token in doc)"
   ]
  },
  {
   "cell_type": "code",
   "execution_count": 17,
   "metadata": {},
   "outputs": [],
   "source": [
    "pos_tagged_sents_train = [get_pos_sequence(s) for s in stat_train_df['sentence']]"
   ]
  },
  {
   "cell_type": "code",
   "execution_count": 18,
   "metadata": {},
   "outputs": [],
   "source": [
    "pos_vectorizer = CountVectorizer(ngram_range=(1, 3), max_features=500)\n",
    "pos_features = pos_vectorizer.fit_transform(pos_tagged_sents_train)"
   ]
  },
  {
   "cell_type": "code",
   "execution_count": 19,
   "metadata": {},
   "outputs": [],
   "source": [
    "#test set features for eval\n",
    "pos_tagged_sents_test = [get_pos_sequence(s) for s in stat_test_df['sentence']]\n",
    "pos_features_test = pos_vectorizer.transform(pos_tagged_sents_test).toarray()"
   ]
  },
  {
   "cell_type": "code",
   "execution_count": 20,
   "metadata": {},
   "outputs": [],
   "source": [
    "#test set features for eval\n",
    "pos_tagged_sents_val = [get_pos_sequence(s) for s in stat_val_df['sentence']]\n",
    "pos_features_val = pos_vectorizer.transform(pos_tagged_sents_val).toarray()"
   ]
  },
  {
   "cell_type": "markdown",
   "metadata": {},
   "source": [
    "##### Feature 5: Word Sense Distribution\n",
    "\n",
    "Puns rely on semantic ambiguity - multiple valid word senses. By quantifying how uncertain a given word's sense is in context. The hypothesis is that this can act as a statistical indicator for subjective language and puns. At the time of writing this report, this method has not been formalized yet in research, so this project will attempt to breifly determine if these features are consequential, and if to include them in the final statistical model. \n",
    "\n",
    "High Entropy may indicate a word with multiple possible meanings, and flatness (even distribution) may determine that no single sense strongly dominates. These features would complement the more traditional lexical or syntactic features in identifying pun-related ambiguity. \n",
    "\n",
    "Using the tokenized and stopword-removed sentences which might otherwise skew overlap, would potentially improve sense matching. Lemmatizing for this ensures that context words align with WordNet's sense definitions - which are often in lemma form (Bird, S. NLTK). "
   ]
  },
  {
   "cell_type": "code",
   "execution_count": 21,
   "metadata": {},
   "outputs": [],
   "source": [
    "#lemmatize already tokenized and cleaned text\n",
    "lemmatizer = WordNetLemmatizer()\n",
    "stat_train_df['lemmatized_tokens'] = stat_train_df['tokenized_sentence'].apply(lambda tokens: [lemmatizer.lemmatize(word) for word in tokens])\n",
    "\n",
    "stat_test_df['lemmatized_tokens'] = stat_test_df['tokenized_sentence'].apply(lambda tokens: [lemmatizer.lemmatize(word) for word in tokens])\n",
    "\n",
    "stat_val_df['lemmatized_tokens'] = stat_val_df['tokenized_sentence'].apply(lambda tokens: [lemmatizer.lemmatize(word) for word in tokens])"
   ]
  },
  {
   "cell_type": "code",
   "execution_count": 22,
   "metadata": {},
   "outputs": [],
   "source": [
    "#Adapted from this paper: [https://thesai.org/Downloads/Volume11No3/Paper_30-Adapted_Lesk_Algorithm.pdf]\n",
    "def adapted_lesk_dist(word, context):\n",
    "    senses = wn.synsets(word)\n",
    "    if not senses:\n",
    "        return []\n",
    "    #calculate overlap for each sense\n",
    "    overlaps = []\n",
    "    for sense in senses:\n",
    "        #retrieve definition and examples\n",
    "        sig = set(word_tokenize(sense.definition().lower()))\n",
    "        for ex in sense.examples():\n",
    "            sig.update(word_tokenize(ex.lower()))\n",
    "        #calc overlap\n",
    "        overlap = len(sig.intersection(set(context)))\n",
    "        overlaps.append(overlap)\n",
    "    #convert overlaps to probabilities\n",
    "    sum_overlap = sum(overlaps)\n",
    "    if sum_overlap == 0:\n",
    "        #just return uniform dist\n",
    "        return [1/len(senses)] * len(senses)\n",
    "    else:\n",
    "        return [overlap / sum_overlap for overlap in overlaps]"
   ]
  },
  {
   "cell_type": "code",
   "execution_count": 23,
   "metadata": {},
   "outputs": [],
   "source": [
    "def calc_entropy(probabilities):\n",
    "    return -sum(p * math.log2(p) for p in probabilities if p > 0)"
   ]
  },
  {
   "cell_type": "code",
   "execution_count": 24,
   "metadata": {},
   "outputs": [],
   "source": [
    "def get_wsd_features(words):\n",
    "    entropies = []\n",
    "    dists = []\n",
    "    for word in words:\n",
    "        probs = adapted_lesk_dist(word, words)\n",
    "        if len(probs) > 1:\n",
    "            entropies.append(calc_entropy(probs))\n",
    "            dists.append(probs)\n",
    "    #entropy features\n",
    "    max_entropy = max(entropies) if entropies else 0\n",
    "    avg_entropy = sum(entropies) / len(entropies) if entropies else 0\n",
    "    #distribution flatness\n",
    "    flatness_scores = [1 - max(dist) for dist in dists]\n",
    "    avg_flatness = sum(flatness_scores) / len(flatness_scores) if flatness_scores else 0\n",
    "    max_flatness = max(flatness_scores) if flatness_scores else 0\n",
    "    return max_entropy, avg_entropy, avg_flatness, max_flatness"
   ]
  },
  {
   "cell_type": "code",
   "execution_count": 25,
   "metadata": {},
   "outputs": [],
   "source": [
    "#get the wsd features from the normalized/stripped version of text\n",
    "stat_train_df[['wsd_max_entropy', 'wsd_avg_entropy', 'wsd_avg_flatness', 'wsd_max_flatness']] = stat_train_df['lemmatized_tokens'].apply(\n",
    "    lambda x: pd.Series(get_wsd_features(x))\n",
    ")"
   ]
  },
  {
   "cell_type": "code",
   "execution_count": 26,
   "metadata": {},
   "outputs": [
    {
     "data": {
      "text/plain": [
       "<Figure size 1000x500 with 0 Axes>"
      ]
     },
     "metadata": {},
     "output_type": "display_data"
    },
    {
     "data": {
      "image/png": "[encoded data removed]",
      "text/plain": [
       "<Figure size 640x480 with 1 Axes>"
      ]
     },
     "metadata": {},
     "output_type": "display_data"
    },
    {
     "data": {
      "text/plain": [
       "<Figure size 1000x500 with 0 Axes>"
      ]
     },
     "metadata": {},
     "output_type": "display_data"
    },
    {
     "data": {
      "image/png": "[encoded data removed]",
      "text/plain": [
       "<Figure size 640x480 with 1 Axes>"
      ]
     },
     "metadata": {},
     "output_type": "display_data"
    },
    {
     "data": {
      "text/plain": [
       "<Figure size 1000x500 with 0 Axes>"
      ]
     },
     "metadata": {},
     "output_type": "display_data"
    },
    {
     "data": {
      "image/png": "[encoded data removed]",
      "text/plain": [
       "<Figure size 640x480 with 1 Axes>"
      ]
     },
     "metadata": {},
     "output_type": "display_data"
    },
    {
     "data": {
      "text/plain": [
       "<Figure size 1000x500 with 0 Axes>"
      ]
     },
     "metadata": {},
     "output_type": "display_data"
    },
    {
     "data": {
      "image/png": "[encoded data removed]",
      "text/plain": [
       "<Figure size 640x480 with 1 Axes>"
      ]
     },
     "metadata": {},
     "output_type": "display_data"
    }
   ],
   "source": [
    "# box plots for each WSD feature by pun label\n",
    "features = ['wsd_max_entropy', 'wsd_avg_entropy', 'wsd_avg_flatness', 'wsd_max_flatness']\n",
    "for feature in features:\n",
    "    plt.figure(figsize=(10, 5))\n",
    "    stat_train_df.boxplot(column=feature, by='pun_label')\n",
    "    plt.title(f'Box Plot of {feature} by Pun Label')\n",
    "    plt.ylabel(feature)\n",
    "    plt.show()"
   ]
  },
  {
   "cell_type": "markdown",
   "metadata": {},
   "source": [
    "Just to be sure it is a good idea to test the statistical significance of these features to verify their usefulness as features in the model. The Mann-Whitney U test is a non-parametric test used to compare the distributions of two independent groups (Mann-Whitney U test, 2024). If the distributions are the same for both groups, it is considered a null hypothesis. If they differ between groups, we keep the feature that differs based on if that p-value < 0.05. If it is >= 0.05, drop the feature."
   ]
  },
  {
   "cell_type": "code",
   "execution_count": 27,
   "metadata": {},
   "outputs": [
    {
     "name": "stdout",
     "output_type": "stream",
     "text": [
      "Mann-Whitney U test for wsd_max_entropy: U-stat=685878.0, P-value=0.7013843217793339\n",
      "Mann-Whitney U test for wsd_avg_entropy: U-stat=574723.5, P-value=9.334210862692076e-10\n",
      "Mann-Whitney U test for wsd_avg_flatness: U-stat=564298.0, P-value=1.6920188838098395e-11\n",
      "Mann-Whitney U test for wsd_max_flatness: U-stat=673440.5, P-value=0.7300749523413732\n"
     ]
    }
   ],
   "source": [
    "for feature in features:\n",
    "    group1 = stat_train_df[stat_train_df['pun_label'] == 1][feature]\n",
    "    group2 = stat_train_df[stat_train_df['pun_label'] == 0][feature]\n",
    "    u_stat, p_value_u = mannwhitneyu(group1, group2)\n",
    "    print(f\"Mann-Whitney U test for {feature}: U-stat={u_stat}, P-value={p_value_u}\")"
   ]
  },
  {
   "cell_type": "markdown",
   "metadata": {},
   "source": [
    "From these results and statistical significance measures with this method, the average entropy and average flatness are the most effective features for indicating pun disambiguation, as the p values suggest stronger difference in how word senses are distributed. "
   ]
  },
  {
   "cell_type": "code",
   "execution_count": 28,
   "metadata": {},
   "outputs": [],
   "source": [
    "stat_train_df.drop(['wsd_max_entropy', 'wsd_max_flatness'], axis=1, inplace=True)"
   ]
  },
  {
   "cell_type": "code",
   "execution_count": 29,
   "metadata": {},
   "outputs": [],
   "source": [
    "#test set features for eval\n",
    "stat_test_df[['wsd_max_entropy', 'wsd_avg_entropy', 'wsd_avg_flatness', 'wsd_max_flatness']] = \\\n",
    "    stat_test_df['lemmatized_tokens'].apply(lambda x: pd.Series(get_wsd_features(x)))\n",
    "wsd_array_test = stat_test_df[['wsd_avg_entropy', 'wsd_avg_flatness']].to_numpy()"
   ]
  },
  {
   "cell_type": "code",
   "execution_count": 30,
   "metadata": {},
   "outputs": [],
   "source": [
    "stat_val_df[['wsd_max_entropy', 'wsd_avg_entropy', 'wsd_avg_flatness', 'wsd_max_flatness']] = \\\n",
    "    stat_val_df['lemmatized_tokens'].apply(lambda x: pd.Series(get_wsd_features(x)))\n",
    "wsd_array_val = stat_val_df[['wsd_avg_entropy', 'wsd_avg_flatness']].to_numpy()"
   ]
  },
  {
   "cell_type": "markdown",
   "metadata": {},
   "source": [
    "##### Feature 6: Polysemy Count\n",
    "\n",
    "Polysemy is the actual phenomenon where a single word has multiple meanings or senses (Salvatore Attardo, 1994). Counting this for each word gives the number of distinct senses that the word has in WordNet. Puns have been shown to exploit words with high polysemy by intentionally playing on their multiple meanings, so with this we can capture quantifiable semantic ambiguity and compliment the WSD features that focus more on contextual ambiguity than intrinsic ambiguity (Salvatore Attardo, 1994). \n",
    "\n",
    "As with WSD, using the lemmatized tokens works better as WordNet organizes words based on lemmas. Without lemmatization however, morphological variants (e.g. plural forms, past tense) might potentially inflate or skew polysemy. "
   ]
  },
  {
   "cell_type": "code",
   "execution_count": 31,
   "metadata": {},
   "outputs": [],
   "source": [
    "def polysemy_count(words):\n",
    "    polysemy_counts = [len(wn.synsets(word)) for word in words] #get num possible senses for each word\n",
    "    #count words with more than one sense\n",
    "    total_polysemy = sum(polysemy_counts)\n",
    "    return total_polysemy"
   ]
  },
  {
   "cell_type": "code",
   "execution_count": 32,
   "metadata": {},
   "outputs": [],
   "source": [
    "#add polysemy features to the training dataset\n",
    "stat_train_df[['polysemy_total']] = stat_train_df['lemmatized_tokens'].apply(\n",
    "    lambda x: pd.Series(polysemy_count(x))\n",
    ")"
   ]
  },
  {
   "cell_type": "code",
   "execution_count": 33,
   "metadata": {},
   "outputs": [],
   "source": [
    "#eval test features\n",
    "stat_test_df['polysemy_total'] = stat_test_df['lemmatized_tokens'].apply(polysemy_count)\n",
    "polysemy_test = stat_test_df[['polysemy_total']].to_numpy()"
   ]
  },
  {
   "cell_type": "code",
   "execution_count": 34,
   "metadata": {},
   "outputs": [],
   "source": [
    "stat_val_df['polysemy_total'] = stat_val_df['lemmatized_tokens'].apply(polysemy_count)\n",
    "polysemy_val = stat_val_df[['polysemy_total']].to_numpy()"
   ]
  },
  {
   "cell_type": "markdown",
   "metadata": {},
   "source": [
    "##### Combining Features\n",
    "\n",
    "Logistic regression expects a single 2D feature matrix, so we need to combine the features. They're all on very different basis, so we need to standardize them.\n",
    "\n",
    "Each feature has a distinct shape we have to keep in mind before combining them...\n",
    "1. **TF-IDF** -> `tfidf_matrix` -- [num_samples, ~1000]\n",
    "2. **Doc2Vec** -> `doc2vec_features` -- [num_samples, 50]\n",
    "3. **POS** -> pos_features_train -- [num_samples, <=500]\n",
    "4. **Dependencies** -> dep_features_df -- [num_samples, 4]\n",
    "5. **WSD/Polysemy** -> 2 WSD features + 1 polysemy count"
   ]
  },
  {
   "cell_type": "code",
   "execution_count": 35,
   "metadata": {},
   "outputs": [],
   "source": [
    "tfidf_arr = tfidf_matrix.toarray() #shape: (num_samples, 1000)\n",
    "doc2vec_arr = doc2vec_features #shape: (num_samples, 50)\n",
    "dep_arr = dep_features.to_numpy() #shape: (num_samples, num_dep_features)\n",
    "pos_arr = pos_features.toarray() #shape: (num_samples, <=500)\n",
    "wsd_arr = stat_train_df[['wsd_avg_entropy', 'wsd_avg_flatness']].to_numpy() #shape: (num_samples, 2)\n",
    "polysemy_arr = stat_train_df[['polysemy_total']].to_numpy() #shape: (num_samples, 1)"
   ]
  },
  {
   "cell_type": "code",
   "execution_count": 36,
   "metadata": {},
   "outputs": [],
   "source": [
    "#combine horizontally\n",
    "combined_features = np.hstack([\n",
    "    tfidf_arr,\n",
    "    doc2vec_arr,\n",
    "    dep_arr,\n",
    "    pos_arr,\n",
    "    wsd_arr,\n",
    "    #polysemy_arr\n",
    "])"
   ]
  },
  {
   "cell_type": "code",
   "execution_count": 37,
   "metadata": {},
   "outputs": [],
   "source": [
    "combined_test_features = np.hstack([\n",
    "    test_tfidf,\n",
    "    test_doc2vec_features,\n",
    "    dep_features_test,\n",
    "    pos_features_test,\n",
    "    wsd_array_test,\n",
    "    #polysemy_test\n",
    "])"
   ]
  },
  {
   "cell_type": "code",
   "execution_count": 38,
   "metadata": {},
   "outputs": [],
   "source": [
    "combined_val_features = np.hstack([\n",
    "    val_tfidf_matrix,\n",
    "    val_doc2vec_features,\n",
    "    dep_features_val,\n",
    "    pos_features_val,\n",
    "    wsd_array_val,\n",
    "    #polysemy_val\n",
    "])"
   ]
  },
  {
   "cell_type": "markdown",
   "metadata": {},
   "source": [
    "#### Dimensionality Reduction with PCA\n",
    "\n",
    "This kind of high-dimensional data can result in overfitting, more parameters = harder to generalize. Principal Component Analysis (PCA) works well for dense features such as these, where we can retain the dimensions that explain 95% of the variance while still removing redundancies where they exist. The goal of this would be to improve generalization of the model getting confused."
   ]
  },
  {
   "cell_type": "code",
   "execution_count": 39,
   "metadata": {},
   "outputs": [],
   "source": [
    "pca = PCA(n_components=0.95)  # keep 95% variance\n",
    "reduced_features = pca.fit_transform(combined_features)"
   ]
  },
  {
   "cell_type": "code",
   "execution_count": 40,
   "metadata": {},
   "outputs": [],
   "source": [
    "test_reduced_features = pca.transform(combined_test_features) #use same PCA object!"
   ]
  },
  {
   "cell_type": "code",
   "execution_count": 41,
   "metadata": {},
   "outputs": [],
   "source": [
    "val_reduced_features = pca.transform(combined_val_features) #use same PCA object!"
   ]
  },
  {
   "cell_type": "markdown",
   "metadata": {},
   "source": [
    "#### Normalization\n",
    "\n",
    "The difference in numeric ranges can cause a bias in training due to the statistical nature of the model - sensitivity to the scales of input features, which we want to avoid. Regularization (L1 and L2) in logistic regression penalizes large coefficients, and if some features have larger scales, they will have inherently larger coefficients automatically. Normalization here would make sure that all features are contributing equally to the optimization process.\n",
    "\n",
    "I'll use the StandardScaler from sklearn, which standardizes by removing the mean and scaling them to unit variance - aka z-score normalization (Scikit-learn developers.). Distribution is important for these features, and this method keeps the distribution intact (unlike MinMaxScaler which squashes the range to [0,1])."
   ]
  },
  {
   "cell_type": "code",
   "execution_count": 42,
   "metadata": {},
   "outputs": [],
   "source": [
    "scaler = StandardScaler() #initialize the scaler\n",
    "final_features = scaler.fit_transform(reduced_features)"
   ]
  },
  {
   "cell_type": "code",
   "execution_count": 43,
   "metadata": {},
   "outputs": [],
   "source": [
    "#use same scaler for eval scaling, just transform\n",
    "X_test_final = scaler.transform(test_reduced_features)"
   ]
  },
  {
   "cell_type": "code",
   "execution_count": 44,
   "metadata": {},
   "outputs": [],
   "source": [
    "X_val_final = scaler.transform(val_reduced_features)"
   ]
  },
  {
   "cell_type": "markdown",
   "metadata": {},
   "source": [
    "Note that I'm only doing fit_transform on this training set. I'll do scaler.transform for the test set, using the same scaler learned from training."
   ]
  },
  {
   "cell_type": "markdown",
   "metadata": {},
   "source": [
    "#### 2.1.3 Embedding Model-Specific Preprocessing\n"
   ]
  },
  {
   "cell_type": "markdown",
   "metadata": {},
   "source": [
    "*Note on Dependencies: Due to struggles with installing simplet5 in the enviornment for this project, the model and very specific versions of dependencies had to be isolated in their own enviornment - specifically gensim's numpy version requirement. Requirements.txt for both enviornments will be included for clarity.*"
   ]
  },
  {
   "cell_type": "markdown",
   "metadata": {},
   "source": [
    "Preprocessing the pun data to be used with the SimpleT5 embedding model implies aligning the data with the model's i/o format. SimpleT5 is a version of T5 Text-To-Text Transfer Transformer which treats all natural language tasks as text-to-text tasks, in this case converting the problem to a sequence-to-sequence task where the input follows a prompt shape, and the output acts as a label that indicates whether the sentence contains a pun or note."
   ]
  },
  {
   "cell_type": "code",
   "execution_count": 9,
   "metadata": {},
   "outputs": [],
   "source": [
    "#load in a copy of test, training, and validation data\n",
    "embed_train_df = pd.read_csv('training_data.csv')\n",
    "embed_test_df = pd.read_csv('test_data.csv')\n",
    "embed_val_df = pd.read_csv('validation_data.csv')\n",
    "\n",
    "#apply basic pre-processing - only need to clean up structure\n",
    "embed_train_df['sentence'] = embed_train_df['raw_sentence'].apply(fix_quotation_marks) #fixing spaces between contractions and quotations\n",
    "embed_test_df['sentence'] = embed_test_df['raw_sentence'].apply(fix_quotation_marks)\n",
    "embed_val_df['sentence'] = embed_val_df['raw_sentence'].apply(fix_quotation_marks)"
   ]
  },
  {
   "cell_type": "markdown",
   "metadata": {},
   "source": [
    "Since T5 is a text-to-text model, transform the binary pun_label into \"pun\" or \"not pun\" strings to use in the \"prompt\" to the model."
   ]
  },
  {
   "cell_type": "code",
   "execution_count": 10,
   "metadata": {},
   "outputs": [],
   "source": [
    "embed_train_df[\"label_text\"] = embed_train_df[\"pun_label\"].map({1: \"pun\", 0: \"not pun\"})\n",
    "embed_test_df[\"label_text\"] = embed_test_df[\"pun_label\"].map({1: \"pun\", 0: \"not pun\"})\n",
    "embed_val_df[\"label_text\"] = embed_val_df[\"pun_label\"].map({1: \"pun\", 0: \"not pun\"})"
   ]
  },
  {
   "cell_type": "markdown",
   "metadata": {},
   "source": [
    "Very basic prompt engineering for this task implies the input following the \"request\" shape, and the output the \"validation\" shape.\n",
    "- **input:** e.g. \"pun detection: this sentence might contain a pun\" \n",
    "- **target:** \"pun\" or \"not pun\""
   ]
  },
  {
   "cell_type": "code",
   "execution_count": 11,
   "metadata": {},
   "outputs": [],
   "source": [
    "embed_train_df[\"input_text\"] = \"pun detection: \" + embed_train_df[\"sentence\"]\n",
    "embed_train_df[\"target_text\"] = embed_train_df[\"label_text\"]\n",
    "\n",
    "embed_test_df[\"input_text\"] = \"pun detection: \" + embed_test_df[\"sentence\"]\n",
    "embed_test_df[\"target_text\"] = embed_test_df[\"label_text\"]\n",
    "\n",
    "embed_val_df[\"input_text\"] = \"pun detection: \" + embed_val_df[\"sentence\"]\n",
    "embed_val_df[\"target_text\"] = embed_val_df[\"label_text\"]"
   ]
  },
  {
   "cell_type": "markdown",
   "metadata": {},
   "source": [
    "SimpleT5 expects a specific dataframe shape with the column names source_text and target_text as input to the model."
   ]
  },
  {
   "cell_type": "code",
   "execution_count": 12,
   "metadata": {},
   "outputs": [],
   "source": [
    "embed_train_df = embed_train_df[[\"input_text\", \"target_text\"]].copy()\n",
    "embed_train_df.rename(columns={\"source_text\": \"source_text\"}, inplace=True)\n",
    "\n",
    "embed_test_df = embed_test_df[[\"input_text\", \"target_text\"]].copy()\n",
    "embed_test_df.rename(columns={\"input_text\": \"source_text\"}, inplace=True)\n",
    "\n",
    "embed_val_df = embed_val_df[[\"input_text\", \"target_text\"]].copy()\n",
    "embed_val_df.rename(columns={\"input_text\": \"source_text\"}, inplace=True)"
   ]
  },
  {
   "cell_type": "markdown",
   "metadata": {},
   "source": [
    "### 2.2 Baseline \n",
    "\n",
    "#### Multinomial Naive Bayes\n",
    "\n",
    "Before conducting the literature review for this project, there was an initial idea to use Multinomial Naive Bayes as the statistical model, since it is such a common and effective model to use for text classification tasks. The CLEF 2023 JOKER Task mentioned evaluated MNB as one of the models to test more broadly multilingual pun detection, location, and interpretation (Prnjak A. et al., 2023). It ranked third among other models tested for detection of puns, but was found to fall short in its ability to capture the subtlety and ambiguity of puns as context was more difficult to introduce (Prnjak A., et al., 2023). MNB works well because of its ability to handle discrete data and calculate probability distributions, which suits capturing linguistic patterns. \n",
    "\n",
    "MNB is definitely competitive, and has served as a baseline for more complicated specialized embedding approaches, and hybrid or extended MNB implementations (Prnjak A., et al., 2023). In the context of the goal of this project - comparing traditional statistic approaches and embedding-based approaches - having MNB as a baseline clarifies where more tuned methods truly add value. Naive Bayes is one of those classic baselines in text classification research (spam filtering is a pretty famous example), so it's a proven meaningful lower-bound for such a specialized and nuanced text classification task as this one. \n",
    "\n",
    "If my more advanced approach can't outperform, it would suggest that the approach isn't capturing the essential patterns in the pun data better than basic word-frequency signals. If it does outperform, it becomes evidence that advanced features and/or learned embeddings have more predictive power. \n",
    "\n",
    "Both MNB and Logistic Regression are considered traditional classifiers. Logistic Regression tends to handle correlated features a bit better and can more seamlessly incorporate numeric features with different baselines. The bag-of-words assumption of MNB that treats features as independent is what I hypothesize as the greatest limiting factor of MNB for subjective interpretation-based tasks. If my logistic regression model outperforms this baseline, it implies syntactic/semantic feature engineering is capturing patterns beyond simple counts. T5 is a deep, transformer-based model that learns the contextual representations of words. Comparing to this baseline would show how the importance of context interpretation in this task."
   ]
  },
  {
   "cell_type": "code",
   "execution_count": 52,
   "metadata": {},
   "outputs": [],
   "source": [
    "#load the datasets\n",
    "mnb_train_df = pd.read_csv('training_data.csv')\n",
    "mnb_val_df = pd.read_csv('validation_data.csv')\n",
    "mnb_test_df = pd.read_csv('test_data.csv')\n",
    "\n",
    "#preprocess - clean the sentence and make it lowercase\n",
    "mnb_train_df[\"sentence\"] = mnb_train_df[\"raw_sentence\"].apply(fix_quotation_marks)\n",
    "mnb_test_df[\"sentence\"] = mnb_test_df[\"raw_sentence\"].apply(fix_quotation_marks)\n",
    "mnb_val_df[\"sentence\"] = mnb_val_df[\"raw_sentence\"].apply(fix_quotation_marks)\n",
    "\n",
    "mnb_train_df[\"sentence\"] = mnb_train_df[\"sentence\"].str.lower()\n",
    "mnb_test_df[\"sentence\"] = mnb_test_df[\"sentence\"].str.lower()\n",
    "mnb_val_df[\"sentence\"] = mnb_val_df[\"sentence\"].str.lower()"
   ]
  },
  {
   "cell_type": "markdown",
   "metadata": {},
   "source": [
    "To vectorize with TF-IDF, I select basic feature parameters...\n",
    "- Including unigrams and bigrams which can be helpful\n",
    "- limiting feature dimensionality\n",
    "- and optionally specifying stop words\n",
    "\n",
    "Not specified any hyperparameters here, though there could be variation of the smoothing parameter (`alpha`)."
   ]
  },
  {
   "cell_type": "code",
   "execution_count": 53,
   "metadata": {},
   "outputs": [],
   "source": [
    "# fit TF-IDF vectorizer on the training set\n",
    "vectorizer = TfidfVectorizer(max_features=1000)  # limit features to top 1000\n",
    "X_train = vectorizer.fit_transform(mnb_train_df[\"sentence\"])\n",
    "X_val = vectorizer.transform(mnb_val_df[\"sentence\"])\n",
    "X_test = vectorizer.transform(mnb_test_df[\"sentence\"])"
   ]
  },
  {
   "cell_type": "code",
   "execution_count": 54,
   "metadata": {},
   "outputs": [],
   "source": [
    "#extract labels\n",
    "y_train = mnb_train_df[\"pun_label\"].values\n",
    "y_val = mnb_val_df[\"pun_label\"].values\n",
    "y_test = mnb_test_df[\"pun_label\"].values"
   ]
  },
  {
   "cell_type": "code",
   "execution_count": 56,
   "metadata": {},
   "outputs": [
    {
     "data": {
      "text/html": [
       "<style>#sk-container-id-1 {\n",
       "  /* Definition of color scheme common for light and dark mode */\n",
       "  --sklearn-color-text: #000;\n",
       "  --sklearn-color-text-muted: #666;\n",
       "  --sklearn-color-line: gray;\n",
       "  /* Definition of color scheme for unfitted estimators */\n",
       "  --sklearn-color-unfitted-level-0: #fff5e6;\n",
       "  --sklearn-color-unfitted-level-1: #f6e4d2;\n",
       "  --sklearn-color-unfitted-level-2: #ffe0b3;\n",
       "  --sklearn-color-unfitted-level-3: chocolate;\n",
       "  /* Definition of color scheme for fitted estimators */\n",
       "  --sklearn-color-fitted-level-0: #f0f8ff;\n",
       "  --sklearn-color-fitted-level-1: #d4ebff;\n",
       "  --sklearn-color-fitted-level-2: #b3dbfd;\n",
       "  --sklearn-color-fitted-level-3: cornflowerblue;\n",
       "\n",
       "  /* Specific color for light theme */\n",
       "  --sklearn-color-text-on-default-background: var(--sg-text-color, var(--theme-code-foreground, var(--jp-content-font-color1, black)));\n",
       "  --sklearn-color-background: var(--sg-background-color, var(--theme-background, var(--jp-layout-color0, white)));\n",
       "  --sklearn-color-border-box: var(--sg-text-color, var(--theme-code-foreground, var(--jp-content-font-color1, black)));\n",
       "  --sklearn-color-icon: #696969;\n",
       "\n",
       "  @media (prefers-color-scheme: dark) {\n",
       "    /* Redefinition of color scheme for dark theme */\n",
       "    --sklearn-color-text-on-default-background: var(--sg-text-color, var(--theme-code-foreground, var(--jp-content-font-color1, white)));\n",
       "    --sklearn-color-background: var(--sg-background-color, var(--theme-background, var(--jp-layout-color0, #111)));\n",
       "    --sklearn-color-border-box: var(--sg-text-color, var(--theme-code-foreground, var(--jp-content-font-color1, white)));\n",
       "    --sklearn-color-icon: #878787;\n",
       "  }\n",
       "}\n",
       "\n",
       "#sk-container-id-1 {\n",
       "  color: var(--sklearn-color-text);\n",
       "}\n",
       "\n",
       "#sk-container-id-1 pre {\n",
       "  padding: 0;\n",
       "}\n",
       "\n",
       "#sk-container-id-1 input.sk-hidden--visually {\n",
       "  border: 0;\n",
       "  clip: rect(1px 1px 1px 1px);\n",
       "  clip: rect(1px, 1px, 1px, 1px);\n",
       "  height: 1px;\n",
       "  margin: -1px;\n",
       "  overflow: hidden;\n",
       "  padding: 0;\n",
       "  position: absolute;\n",
       "  width: 1px;\n",
       "}\n",
       "\n",
       "#sk-container-id-1 div.sk-dashed-wrapped {\n",
       "  border: 1px dashed var(--sklearn-color-line);\n",
       "  margin: 0 0.4em 0.5em 0.4em;\n",
       "  box-sizing: border-box;\n",
       "  padding-bottom: 0.4em;\n",
       "  background-color: var(--sklearn-color-background);\n",
       "}\n",
       "\n",
       "#sk-container-id-1 div.sk-container {\n",
       "  /* jupyter's `normalize.less` sets `[hidden] { display: none; }`\n",
       "     but bootstrap.min.css set `[hidden] { display: none !important; }`\n",
       "     so we also need the `!important` here to be able to override the\n",
       "     default hidden behavior on the sphinx rendered scikit-learn.org.\n",
       "     See: https://github.com/scikit-learn/scikit-learn/issues/21755 */\n",
       "  display: inline-block !important;\n",
       "  position: relative;\n",
       "}\n",
       "\n",
       "#sk-container-id-1 div.sk-text-repr-fallback {\n",
       "  display: none;\n",
       "}\n",
       "\n",
       "div.sk-parallel-item,\n",
       "div.sk-serial,\n",
       "div.sk-item {\n",
       "  /* draw centered vertical line to link estimators */\n",
       "  background-image: linear-gradient(var(--sklearn-color-text-on-default-background), var(--sklearn-color-text-on-default-background));\n",
       "  background-size: 2px 100%;\n",
       "  background-repeat: no-repeat;\n",
       "  background-position: center center;\n",
       "}\n",
       "\n",
       "/* Parallel-specific style estimator block */\n",
       "\n",
       "#sk-container-id-1 div.sk-parallel-item::after {\n",
       "  content: \"\";\n",
       "  width: 100%;\n",
       "  border-bottom: 2px solid var(--sklearn-color-text-on-default-background);\n",
       "  flex-grow: 1;\n",
       "}\n",
       "\n",
       "#sk-container-id-1 div.sk-parallel {\n",
       "  display: flex;\n",
       "  align-items: stretch;\n",
       "  justify-content: center;\n",
       "  background-color: var(--sklearn-color-background);\n",
       "  position: relative;\n",
       "}\n",
       "\n",
       "#sk-container-id-1 div.sk-parallel-item {\n",
       "  display: flex;\n",
       "  flex-direction: column;\n",
       "}\n",
       "\n",
       "#sk-container-id-1 div.sk-parallel-item:first-child::after {\n",
       "  align-self: flex-end;\n",
       "  width: 50%;\n",
       "}\n",
       "\n",
       "#sk-container-id-1 div.sk-parallel-item:last-child::after {\n",
       "  align-self: flex-start;\n",
       "  width: 50%;\n",
       "}\n",
       "\n",
       "#sk-container-id-1 div.sk-parallel-item:only-child::after {\n",
       "  width: 0;\n",
       "}\n",
       "\n",
       "/* Serial-specific style estimator block */\n",
       "\n",
       "#sk-container-id-1 div.sk-serial {\n",
       "  display: flex;\n",
       "  flex-direction: column;\n",
       "  align-items: center;\n",
       "  background-color: var(--sklearn-color-background);\n",
       "  padding-right: 1em;\n",
       "  padding-left: 1em;\n",
       "}\n",
       "\n",
       "\n",
       "/* Toggleable style: style used for estimator/Pipeline/ColumnTransformer box that is\n",
       "clickable and can be expanded/collapsed.\n",
       "- Pipeline and ColumnTransformer use this feature and define the default style\n",
       "- Estimators will overwrite some part of the style using the `sk-estimator` class\n",
       "*/\n",
       "\n",
       "/* Pipeline and ColumnTransformer style (default) */\n",
       "\n",
       "#sk-container-id-1 div.sk-toggleable {\n",
       "  /* Default theme specific background. It is overwritten whether we have a\n",
       "  specific estimator or a Pipeline/ColumnTransformer */\n",
       "  background-color: var(--sklearn-color-background);\n",
       "}\n",
       "\n",
       "/* Toggleable label */\n",
       "#sk-container-id-1 label.sk-toggleable__label {\n",
       "  cursor: pointer;\n",
       "  display: flex;\n",
       "  width: 100%;\n",
       "  margin-bottom: 0;\n",
       "  padding: 0.5em;\n",
       "  box-sizing: border-box;\n",
       "  text-align: center;\n",
       "  align-items: start;\n",
       "  justify-content: space-between;\n",
       "  gap: 0.5em;\n",
       "}\n",
       "\n",
       "#sk-container-id-1 label.sk-toggleable__label .caption {\n",
       "  font-size: 0.6rem;\n",
       "  font-weight: lighter;\n",
       "  color: var(--sklearn-color-text-muted);\n",
       "}\n",
       "\n",
       "#sk-container-id-1 label.sk-toggleable__label-arrow:before {\n",
       "  /* Arrow on the left of the label */\n",
       "  content: \"▸\";\n",
       "  float: left;\n",
       "  margin-right: 0.25em;\n",
       "  color: var(--sklearn-color-icon);\n",
       "}\n",
       "\n",
       "#sk-container-id-1 label.sk-toggleable__label-arrow:hover:before {\n",
       "  color: var(--sklearn-color-text);\n",
       "}\n",
       "\n",
       "/* Toggleable content - dropdown */\n",
       "\n",
       "#sk-container-id-1 div.sk-toggleable__content {\n",
       "  max-height: 0;\n",
       "  max-width: 0;\n",
       "  overflow: hidden;\n",
       "  text-align: left;\n",
       "  /* unfitted */\n",
       "  background-color: var(--sklearn-color-unfitted-level-0);\n",
       "}\n",
       "\n",
       "#sk-container-id-1 div.sk-toggleable__content.fitted {\n",
       "  /* fitted */\n",
       "  background-color: var(--sklearn-color-fitted-level-0);\n",
       "}\n",
       "\n",
       "#sk-container-id-1 div.sk-toggleable__content pre {\n",
       "  margin: 0.2em;\n",
       "  border-radius: 0.25em;\n",
       "  color: var(--sklearn-color-text);\n",
       "  /* unfitted */\n",
       "  background-color: var(--sklearn-color-unfitted-level-0);\n",
       "}\n",
       "\n",
       "#sk-container-id-1 div.sk-toggleable__content.fitted pre {\n",
       "  /* unfitted */\n",
       "  background-color: var(--sklearn-color-fitted-level-0);\n",
       "}\n",
       "\n",
       "#sk-container-id-1 input.sk-toggleable__control:checked~div.sk-toggleable__content {\n",
       "  /* Expand drop-down */\n",
       "  max-height: 200px;\n",
       "  max-width: 100%;\n",
       "  overflow: auto;\n",
       "}\n",
       "\n",
       "#sk-container-id-1 input.sk-toggleable__control:checked~label.sk-toggleable__label-arrow:before {\n",
       "  content: \"▾\";\n",
       "}\n",
       "\n",
       "/* Pipeline/ColumnTransformer-specific style */\n",
       "\n",
       "#sk-container-id-1 div.sk-label input.sk-toggleable__control:checked~label.sk-toggleable__label {\n",
       "  color: var(--sklearn-color-text);\n",
       "  background-color: var(--sklearn-color-unfitted-level-2);\n",
       "}\n",
       "\n",
       "#sk-container-id-1 div.sk-label.fitted input.sk-toggleable__control:checked~label.sk-toggleable__label {\n",
       "  background-color: var(--sklearn-color-fitted-level-2);\n",
       "}\n",
       "\n",
       "/* Estimator-specific style */\n",
       "\n",
       "/* Colorize estimator box */\n",
       "#sk-container-id-1 div.sk-estimator input.sk-toggleable__control:checked~label.sk-toggleable__label {\n",
       "  /* unfitted */\n",
       "  background-color: var(--sklearn-color-unfitted-level-2);\n",
       "}\n",
       "\n",
       "#sk-container-id-1 div.sk-estimator.fitted input.sk-toggleable__control:checked~label.sk-toggleable__label {\n",
       "  /* fitted */\n",
       "  background-color: var(--sklearn-color-fitted-level-2);\n",
       "}\n",
       "\n",
       "#sk-container-id-1 div.sk-label label.sk-toggleable__label,\n",
       "#sk-container-id-1 div.sk-label label {\n",
       "  /* The background is the default theme color */\n",
       "  color: var(--sklearn-color-text-on-default-background);\n",
       "}\n",
       "\n",
       "/* On hover, darken the color of the background */\n",
       "#sk-container-id-1 div.sk-label:hover label.sk-toggleable__label {\n",
       "  color: var(--sklearn-color-text);\n",
       "  background-color: var(--sklearn-color-unfitted-level-2);\n",
       "}\n",
       "\n",
       "/* Label box, darken color on hover, fitted */\n",
       "#sk-container-id-1 div.sk-label.fitted:hover label.sk-toggleable__label.fitted {\n",
       "  color: var(--sklearn-color-text);\n",
       "  background-color: var(--sklearn-color-fitted-level-2);\n",
       "}\n",
       "\n",
       "/* Estimator label */\n",
       "\n",
       "#sk-container-id-1 div.sk-label label {\n",
       "  font-family: monospace;\n",
       "  font-weight: bold;\n",
       "  display: inline-block;\n",
       "  line-height: 1.2em;\n",
       "}\n",
       "\n",
       "#sk-container-id-1 div.sk-label-container {\n",
       "  text-align: center;\n",
       "}\n",
       "\n",
       "/* Estimator-specific */\n",
       "#sk-container-id-1 div.sk-estimator {\n",
       "  font-family: monospace;\n",
       "  border: 1px dotted var(--sklearn-color-border-box);\n",
       "  border-radius: 0.25em;\n",
       "  box-sizing: border-box;\n",
       "  margin-bottom: 0.5em;\n",
       "  /* unfitted */\n",
       "  background-color: var(--sklearn-color-unfitted-level-0);\n",
       "}\n",
       "\n",
       "#sk-container-id-1 div.sk-estimator.fitted {\n",
       "  /* fitted */\n",
       "  background-color: var(--sklearn-color-fitted-level-0);\n",
       "}\n",
       "\n",
       "/* on hover */\n",
       "#sk-container-id-1 div.sk-estimator:hover {\n",
       "  /* unfitted */\n",
       "  background-color: var(--sklearn-color-unfitted-level-2);\n",
       "}\n",
       "\n",
       "#sk-container-id-1 div.sk-estimator.fitted:hover {\n",
       "  /* fitted */\n",
       "  background-color: var(--sklearn-color-fitted-level-2);\n",
       "}\n",
       "\n",
       "/* Specification for estimator info (e.g. \"i\" and \"?\") */\n",
       "\n",
       "/* Common style for \"i\" and \"?\" */\n",
       "\n",
       ".sk-estimator-doc-link,\n",
       "a:link.sk-estimator-doc-link,\n",
       "a:visited.sk-estimator-doc-link {\n",
       "  float: right;\n",
       "  font-size: smaller;\n",
       "  line-height: 1em;\n",
       "  font-family: monospace;\n",
       "  background-color: var(--sklearn-color-background);\n",
       "  border-radius: 1em;\n",
       "  height: 1em;\n",
       "  width: 1em;\n",
       "  text-decoration: none !important;\n",
       "  margin-left: 0.5em;\n",
       "  text-align: center;\n",
       "  /* unfitted */\n",
       "  border: var(--sklearn-color-unfitted-level-1) 1pt solid;\n",
       "  color: var(--sklearn-color-unfitted-level-1);\n",
       "}\n",
       "\n",
       ".sk-estimator-doc-link.fitted,\n",
       "a:link.sk-estimator-doc-link.fitted,\n",
       "a:visited.sk-estimator-doc-link.fitted {\n",
       "  /* fitted */\n",
       "  border: var(--sklearn-color-fitted-level-1) 1pt solid;\n",
       "  color: var(--sklearn-color-fitted-level-1);\n",
       "}\n",
       "\n",
       "/* On hover */\n",
       "div.sk-estimator:hover .sk-estimator-doc-link:hover,\n",
       ".sk-estimator-doc-link:hover,\n",
       "div.sk-label-container:hover .sk-estimator-doc-link:hover,\n",
       ".sk-estimator-doc-link:hover {\n",
       "  /* unfitted */\n",
       "  background-color: var(--sklearn-color-unfitted-level-3);\n",
       "  color: var(--sklearn-color-background);\n",
       "  text-decoration: none;\n",
       "}\n",
       "\n",
       "div.sk-estimator.fitted:hover .sk-estimator-doc-link.fitted:hover,\n",
       ".sk-estimator-doc-link.fitted:hover,\n",
       "div.sk-label-container:hover .sk-estimator-doc-link.fitted:hover,\n",
       ".sk-estimator-doc-link.fitted:hover {\n",
       "  /* fitted */\n",
       "  background-color: var(--sklearn-color-fitted-level-3);\n",
       "  color: var(--sklearn-color-background);\n",
       "  text-decoration: none;\n",
       "}\n",
       "\n",
       "/* Span, style for the box shown on hovering the info icon */\n",
       ".sk-estimator-doc-link span {\n",
       "  display: none;\n",
       "  z-index: 9999;\n",
       "  position: relative;\n",
       "  font-weight: normal;\n",
       "  right: .2ex;\n",
       "  padding: .5ex;\n",
       "  margin: .5ex;\n",
       "  width: min-content;\n",
       "  min-width: 20ex;\n",
       "  max-width: 50ex;\n",
       "  color: var(--sklearn-color-text);\n",
       "  box-shadow: 2pt 2pt 4pt #999;\n",
       "  /* unfitted */\n",
       "  background: var(--sklearn-color-unfitted-level-0);\n",
       "  border: .5pt solid var(--sklearn-color-unfitted-level-3);\n",
       "}\n",
       "\n",
       ".sk-estimator-doc-link.fitted span {\n",
       "  /* fitted */\n",
       "  background: var(--sklearn-color-fitted-level-0);\n",
       "  border: var(--sklearn-color-fitted-level-3);\n",
       "}\n",
       "\n",
       ".sk-estimator-doc-link:hover span {\n",
       "  display: block;\n",
       "}\n",
       "\n",
       "/* \"?\"-specific style due to the `<a>` HTML tag */\n",
       "\n",
       "#sk-container-id-1 a.estimator_doc_link {\n",
       "  float: right;\n",
       "  font-size: 1rem;\n",
       "  line-height: 1em;\n",
       "  font-family: monospace;\n",
       "  background-color: var(--sklearn-color-background);\n",
       "  border-radius: 1rem;\n",
       "  height: 1rem;\n",
       "  width: 1rem;\n",
       "  text-decoration: none;\n",
       "  /* unfitted */\n",
       "  color: var(--sklearn-color-unfitted-level-1);\n",
       "  border: var(--sklearn-color-unfitted-level-1) 1pt solid;\n",
       "}\n",
       "\n",
       "#sk-container-id-1 a.estimator_doc_link.fitted {\n",
       "  /* fitted */\n",
       "  border: var(--sklearn-color-fitted-level-1) 1pt solid;\n",
       "  color: var(--sklearn-color-fitted-level-1);\n",
       "}\n",
       "\n",
       "/* On hover */\n",
       "#sk-container-id-1 a.estimator_doc_link:hover {\n",
       "  /* unfitted */\n",
       "  background-color: var(--sklearn-color-unfitted-level-3);\n",
       "  color: var(--sklearn-color-background);\n",
       "  text-decoration: none;\n",
       "}\n",
       "\n",
       "#sk-container-id-1 a.estimator_doc_link.fitted:hover {\n",
       "  /* fitted */\n",
       "  background-color: var(--sklearn-color-fitted-level-3);\n",
       "}\n",
       "</style><div id=\"sk-container-id-1\" class=\"sk-top-container\"><div class=\"sk-text-repr-fallback\"><pre>MultinomialNB()</pre><b>In a Jupyter environment, please rerun this cell to show the HTML representation or trust the notebook. <br />On GitHub, the HTML representation is unable to render, please try loading this page with nbviewer.org.</b></div><div class=\"sk-container\" hidden><div class=\"sk-item\"><div class=\"sk-estimator fitted sk-toggleable\"><input class=\"sk-toggleable__control sk-hidden--visually\" id=\"sk-estimator-id-1\" type=\"checkbox\" checked><label for=\"sk-estimator-id-1\" class=\"sk-toggleable__label fitted sk-toggleable__label-arrow\"><div><div>MultinomialNB</div></div><div><a class=\"sk-estimator-doc-link fitted\" rel=\"noreferrer\" target=\"_blank\" href=\"https://scikit-learn.org/1.6/modules/generated/sklearn.naive_bayes.MultinomialNB.html\">?<span>Documentation for MultinomialNB</span></a><span class=\"sk-estimator-doc-link fitted\">i<span>Fitted</span></span></div></label><div class=\"sk-toggleable__content fitted\"><pre>MultinomialNB()</pre></div> </div></div></div></div>"
      ],
      "text/plain": [
       "MultinomialNB()"
      ]
     },
     "execution_count": 56,
     "metadata": {},
     "output_type": "execute_result"
    }
   ],
   "source": [
    "#train model on x and y\n",
    "mnb_model = MultinomialNB()\n",
    "mnb_model.fit(X_train, y_train)"
   ]
  },
  {
   "cell_type": "code",
   "execution_count": 57,
   "metadata": {},
   "outputs": [
    {
     "name": "stdout",
     "output_type": "stream",
     "text": [
      "MNB Baseline Test Results:\n",
      "Accuracy = 0.785\n",
      "Precision = 0.781\n",
      "Recall = 0.972\n",
      "F1 = 0.866\n"
     ]
    }
   ],
   "source": [
    "#evaluation - predict on test data\n",
    "y_test_pred = mnb_model.predict(X_test)\n",
    "\n",
    "acc  = accuracy_score(y_test, y_test_pred)\n",
    "prec = precision_score(y_test, y_test_pred, average='binary')\n",
    "rec  = recall_score(y_test, y_test_pred, average='binary')\n",
    "f1   = f1_score(y_test, y_test_pred, average='binary')\n",
    "\n",
    "print(\"MNB Baseline Test Results:\")\n",
    "print(f\"Accuracy = {acc:.3f}\")\n",
    "print(f\"Precision = {prec:.3f}\")\n",
    "print(f\"Recall = {rec:.3f}\")\n",
    "print(f\"F1 = {f1:.3f}\")"
   ]
  },
  {
   "cell_type": "code",
   "execution_count": 58,
   "metadata": {},
   "outputs": [],
   "source": [
    "mnb_metrics = {\n",
    "    \"model\": \"Multinomial Naive Bayes\",\n",
    "    \"accuracy\": acc,\n",
    "    \"precision\": prec,\n",
    "    \"recall\": rec,\n",
    "    \"f1\": f1\n",
    "}"
   ]
  },
  {
   "cell_type": "markdown",
   "metadata": {},
   "source": [
    "### 2.3 Comparative Classification"
   ]
  },
  {
   "cell_type": "markdown",
   "metadata": {},
   "source": [
    "#### Statistical Model: Logistic Regression using Feature Engineering"
   ]
  },
  {
   "cell_type": "markdown",
   "metadata": {},
   "source": [
    "Logistic regression is a linear classifier, where the training process works to minimize the binary cross-entropy loss. The sklearn LogisticRegression model is well documented, and used here for consistency with other libraries, and its coupling with other tools used here that abstract a lot of the process and enable smooth metric measurement.\n",
    "\n",
    "The model input is the processed feature matrix, including the semantic features, syntactic features, and ambiguity metrics that have been pre-processed, normalized for a uniform scale, and compressed using dimensionality reduction. "
   ]
  },
  {
   "cell_type": "code",
   "execution_count": 45,
   "metadata": {},
   "outputs": [],
   "source": [
    "X_train = final_features  #processed feature matrix\n",
    "y_train = stat_train_df['pun_label'].values"
   ]
  },
  {
   "cell_type": "markdown",
   "metadata": {},
   "source": [
    "The model includes L1 regularization, which penalizes larger weights. Lasso (L1) encourages sparsity in the weights, which can help pick out the less relevant features. Max iterations controls the number of optimization steps - for now 1000 works to start. \n",
    "\n",
    "K-Fold Cross-Validation splits the training data into k equally sized subsets (folds) (Scikit-learn developers.). The model is trained on k - 1 folds, and validated on the remaining one, repeated k times to ensure every fold is used for validation exactly once. It ensures the model is tested on a diverse enough subset of the data, so things won't get left out or overlooked in what might otherwise be something too rigid for pun detection. In the optimization process we can observe the average validation performance and tine-tune hyperparameters like C and some PCA components."
   ]
  },
  {
   "cell_type": "code",
   "execution_count": 46,
   "metadata": {},
   "outputs": [],
   "source": [
    "kf = KFold(n_splits=5, shuffle=True, random_state=42)\n",
    "model = LogisticRegression(penalty='l1', solver='liblinear', max_iter=1000)"
   ]
  },
  {
   "cell_type": "code",
   "execution_count": 47,
   "metadata": {},
   "outputs": [],
   "source": [
    "scoring = {\n",
    "    'accuracy': make_scorer(accuracy_score),\n",
    "    'precision': make_scorer(precision_score, average='binary'),\n",
    "    'recall': make_scorer(recall_score, average='binary'),\n",
    "    'f1': make_scorer(f1_score, average='binary')\n",
    "}"
   ]
  },
  {
   "cell_type": "code",
   "execution_count": 48,
   "metadata": {},
   "outputs": [],
   "source": [
    "cv_results = cross_validate(\n",
    "    estimator=model,\n",
    "    X=X_train,\n",
    "    y=y_train,\n",
    "    cv=kf,\n",
    "    scoring=scoring,\n",
    "    return_train_score=True\n",
    ")"
   ]
  },
  {
   "cell_type": "code",
   "execution_count": 49,
   "metadata": {},
   "outputs": [
    {
     "name": "stdout",
     "output_type": "stream",
     "text": [
      "Cross-Validation Results:\n",
      "  Accuracy (val): 0.834\n",
      "  Precision (val): 0.875\n",
      "  Recall (val): 0.896\n",
      "  F1 (val): 0.885\n"
     ]
    }
   ],
   "source": [
    "print(\"Cross-Validation Results:\")\n",
    "print(f\"  Accuracy (val): {np.mean(cv_results['test_accuracy']):.3f}\")\n",
    "print(f\"  Precision (val): {np.mean(cv_results['test_precision']):.3f}\")\n",
    "print(f\"  Recall (val): {np.mean(cv_results['test_recall']):.3f}\")\n",
    "print(f\"  F1 (val): {np.mean(cv_results['test_f1']):.3f}\")"
   ]
  },
  {
   "cell_type": "markdown",
   "metadata": {},
   "source": [
    "After this first pass we can see against the metrics that the model correctly classifies 71.4% of sentences as containing a pun or not, possibly predicting too many false positives. About 28.6% of sentences predicted as puns were false positives - not actually puns, so we need to understand why the model might be overpredicting puns. The model did a good job detecting all true puns, with perfect recall, and a relatively high F1 score indicating a reasonable enough trade-off between precision and recall.\n",
    "\n",
    "From here we can address various areas of improvement shown by the metrics by doing a few things such as refining features, or regularization tuning. Techniques such as Recursive Feature Elimination (RFE) help identify the most useful features which can reduce some of the noise causing bad precision. Adjusting the regularization strength (C) in the logistic regression model to be a bit lower applies stronger regularization and overfitting reduction. "
   ]
  },
  {
   "cell_type": "code",
   "execution_count": 50,
   "metadata": {},
   "outputs": [
    {
     "name": "stdout",
     "output_type": "stream",
     "text": [
      "Best parameters: {'C': 0.1}\n"
     ]
    }
   ],
   "source": [
    "from sklearn.model_selection import GridSearchCV\n",
    "\n",
    "param_grid = {'C': [0.01, 0.1, 1, 10]}\n",
    "grid_search = GridSearchCV(\n",
    "    LogisticRegression(penalty='l1', solver='liblinear', max_iter=1000),\n",
    "    param_grid,\n",
    "    scoring='f1',\n",
    "    cv=5\n",
    ")\n",
    "grid_search.fit(X_train, y_train)\n",
    "print(\"Best parameters:\", grid_search.best_params_)"
   ]
  },
  {
   "cell_type": "markdown",
   "metadata": {},
   "source": [
    "Using sklearn's GridSearchCV to find the optimal regularization parameter resulted in the idea that the model could benefit from stronger regularization. With this, retraining the model on the entire training set using the new C value, then evaluating with the validation set will confirm the potential improvements in metrics."
   ]
  },
  {
   "cell_type": "code",
   "execution_count": 51,
   "metadata": {},
   "outputs": [
    {
     "data": {
      "text/html": [
       "<style>#sk-container-id-1 {\n",
       "  /* Definition of color scheme common for light and dark mode */\n",
       "  --sklearn-color-text: #000;\n",
       "  --sklearn-color-text-muted: #666;\n",
       "  --sklearn-color-line: gray;\n",
       "  /* Definition of color scheme for unfitted estimators */\n",
       "  --sklearn-color-unfitted-level-0: #fff5e6;\n",
       "  --sklearn-color-unfitted-level-1: #f6e4d2;\n",
       "  --sklearn-color-unfitted-level-2: #ffe0b3;\n",
       "  --sklearn-color-unfitted-level-3: chocolate;\n",
       "  /* Definition of color scheme for fitted estimators */\n",
       "  --sklearn-color-fitted-level-0: #f0f8ff;\n",
       "  --sklearn-color-fitted-level-1: #d4ebff;\n",
       "  --sklearn-color-fitted-level-2: #b3dbfd;\n",
       "  --sklearn-color-fitted-level-3: cornflowerblue;\n",
       "\n",
       "  /* Specific color for light theme */\n",
       "  --sklearn-color-text-on-default-background: var(--sg-text-color, var(--theme-code-foreground, var(--jp-content-font-color1, black)));\n",
       "  --sklearn-color-background: var(--sg-background-color, var(--theme-background, var(--jp-layout-color0, white)));\n",
       "  --sklearn-color-border-box: var(--sg-text-color, var(--theme-code-foreground, var(--jp-content-font-color1, black)));\n",
       "  --sklearn-color-icon: #696969;\n",
       "\n",
       "  @media (prefers-color-scheme: dark) {\n",
       "    /* Redefinition of color scheme for dark theme */\n",
       "    --sklearn-color-text-on-default-background: var(--sg-text-color, var(--theme-code-foreground, var(--jp-content-font-color1, white)));\n",
       "    --sklearn-color-background: var(--sg-background-color, var(--theme-background, var(--jp-layout-color0, #111)));\n",
       "    --sklearn-color-border-box: var(--sg-text-color, var(--theme-code-foreground, var(--jp-content-font-color1, white)));\n",
       "    --sklearn-color-icon: #878787;\n",
       "  }\n",
       "}\n",
       "\n",
       "#sk-container-id-1 {\n",
       "  color: var(--sklearn-color-text);\n",
       "}\n",
       "\n",
       "#sk-container-id-1 pre {\n",
       "  padding: 0;\n",
       "}\n",
       "\n",
       "#sk-container-id-1 input.sk-hidden--visually {\n",
       "  border: 0;\n",
       "  clip: rect(1px 1px 1px 1px);\n",
       "  clip: rect(1px, 1px, 1px, 1px);\n",
       "  height: 1px;\n",
       "  margin: -1px;\n",
       "  overflow: hidden;\n",
       "  padding: 0;\n",
       "  position: absolute;\n",
       "  width: 1px;\n",
       "}\n",
       "\n",
       "#sk-container-id-1 div.sk-dashed-wrapped {\n",
       "  border: 1px dashed var(--sklearn-color-line);\n",
       "  margin: 0 0.4em 0.5em 0.4em;\n",
       "  box-sizing: border-box;\n",
       "  padding-bottom: 0.4em;\n",
       "  background-color: var(--sklearn-color-background);\n",
       "}\n",
       "\n",
       "#sk-container-id-1 div.sk-container {\n",
       "  /* jupyter's `normalize.less` sets `[hidden] { display: none; }`\n",
       "     but bootstrap.min.css set `[hidden] { display: none !important; }`\n",
       "     so we also need the `!important` here to be able to override the\n",
       "     default hidden behavior on the sphinx rendered scikit-learn.org.\n",
       "     See: https://github.com/scikit-learn/scikit-learn/issues/21755 */\n",
       "  display: inline-block !important;\n",
       "  position: relative;\n",
       "}\n",
       "\n",
       "#sk-container-id-1 div.sk-text-repr-fallback {\n",
       "  display: none;\n",
       "}\n",
       "\n",
       "div.sk-parallel-item,\n",
       "div.sk-serial,\n",
       "div.sk-item {\n",
       "  /* draw centered vertical line to link estimators */\n",
       "  background-image: linear-gradient(var(--sklearn-color-text-on-default-background), var(--sklearn-color-text-on-default-background));\n",
       "  background-size: 2px 100%;\n",
       "  background-repeat: no-repeat;\n",
       "  background-position: center center;\n",
       "}\n",
       "\n",
       "/* Parallel-specific style estimator block */\n",
       "\n",
       "#sk-container-id-1 div.sk-parallel-item::after {\n",
       "  content: \"\";\n",
       "  width: 100%;\n",
       "  border-bottom: 2px solid var(--sklearn-color-text-on-default-background);\n",
       "  flex-grow: 1;\n",
       "}\n",
       "\n",
       "#sk-container-id-1 div.sk-parallel {\n",
       "  display: flex;\n",
       "  align-items: stretch;\n",
       "  justify-content: center;\n",
       "  background-color: var(--sklearn-color-background);\n",
       "  position: relative;\n",
       "}\n",
       "\n",
       "#sk-container-id-1 div.sk-parallel-item {\n",
       "  display: flex;\n",
       "  flex-direction: column;\n",
       "}\n",
       "\n",
       "#sk-container-id-1 div.sk-parallel-item:first-child::after {\n",
       "  align-self: flex-end;\n",
       "  width: 50%;\n",
       "}\n",
       "\n",
       "#sk-container-id-1 div.sk-parallel-item:last-child::after {\n",
       "  align-self: flex-start;\n",
       "  width: 50%;\n",
       "}\n",
       "\n",
       "#sk-container-id-1 div.sk-parallel-item:only-child::after {\n",
       "  width: 0;\n",
       "}\n",
       "\n",
       "/* Serial-specific style estimator block */\n",
       "\n",
       "#sk-container-id-1 div.sk-serial {\n",
       "  display: flex;\n",
       "  flex-direction: column;\n",
       "  align-items: center;\n",
       "  background-color: var(--sklearn-color-background);\n",
       "  padding-right: 1em;\n",
       "  padding-left: 1em;\n",
       "}\n",
       "\n",
       "\n",
       "/* Toggleable style: style used for estimator/Pipeline/ColumnTransformer box that is\n",
       "clickable and can be expanded/collapsed.\n",
       "- Pipeline and ColumnTransformer use this feature and define the default style\n",
       "- Estimators will overwrite some part of the style using the `sk-estimator` class\n",
       "*/\n",
       "\n",
       "/* Pipeline and ColumnTransformer style (default) */\n",
       "\n",
       "#sk-container-id-1 div.sk-toggleable {\n",
       "  /* Default theme specific background. It is overwritten whether we have a\n",
       "  specific estimator or a Pipeline/ColumnTransformer */\n",
       "  background-color: var(--sklearn-color-background);\n",
       "}\n",
       "\n",
       "/* Toggleable label */\n",
       "#sk-container-id-1 label.sk-toggleable__label {\n",
       "  cursor: pointer;\n",
       "  display: flex;\n",
       "  width: 100%;\n",
       "  margin-bottom: 0;\n",
       "  padding: 0.5em;\n",
       "  box-sizing: border-box;\n",
       "  text-align: center;\n",
       "  align-items: start;\n",
       "  justify-content: space-between;\n",
       "  gap: 0.5em;\n",
       "}\n",
       "\n",
       "#sk-container-id-1 label.sk-toggleable__label .caption {\n",
       "  font-size: 0.6rem;\n",
       "  font-weight: lighter;\n",
       "  color: var(--sklearn-color-text-muted);\n",
       "}\n",
       "\n",
       "#sk-container-id-1 label.sk-toggleable__label-arrow:before {\n",
       "  /* Arrow on the left of the label */\n",
       "  content: \"▸\";\n",
       "  float: left;\n",
       "  margin-right: 0.25em;\n",
       "  color: var(--sklearn-color-icon);\n",
       "}\n",
       "\n",
       "#sk-container-id-1 label.sk-toggleable__label-arrow:hover:before {\n",
       "  color: var(--sklearn-color-text);\n",
       "}\n",
       "\n",
       "/* Toggleable content - dropdown */\n",
       "\n",
       "#sk-container-id-1 div.sk-toggleable__content {\n",
       "  max-height: 0;\n",
       "  max-width: 0;\n",
       "  overflow: hidden;\n",
       "  text-align: left;\n",
       "  /* unfitted */\n",
       "  background-color: var(--sklearn-color-unfitted-level-0);\n",
       "}\n",
       "\n",
       "#sk-container-id-1 div.sk-toggleable__content.fitted {\n",
       "  /* fitted */\n",
       "  background-color: var(--sklearn-color-fitted-level-0);\n",
       "}\n",
       "\n",
       "#sk-container-id-1 div.sk-toggleable__content pre {\n",
       "  margin: 0.2em;\n",
       "  border-radius: 0.25em;\n",
       "  color: var(--sklearn-color-text);\n",
       "  /* unfitted */\n",
       "  background-color: var(--sklearn-color-unfitted-level-0);\n",
       "}\n",
       "\n",
       "#sk-container-id-1 div.sk-toggleable__content.fitted pre {\n",
       "  /* unfitted */\n",
       "  background-color: var(--sklearn-color-fitted-level-0);\n",
       "}\n",
       "\n",
       "#sk-container-id-1 input.sk-toggleable__control:checked~div.sk-toggleable__content {\n",
       "  /* Expand drop-down */\n",
       "  max-height: 200px;\n",
       "  max-width: 100%;\n",
       "  overflow: auto;\n",
       "}\n",
       "\n",
       "#sk-container-id-1 input.sk-toggleable__control:checked~label.sk-toggleable__label-arrow:before {\n",
       "  content: \"▾\";\n",
       "}\n",
       "\n",
       "/* Pipeline/ColumnTransformer-specific style */\n",
       "\n",
       "#sk-container-id-1 div.sk-label input.sk-toggleable__control:checked~label.sk-toggleable__label {\n",
       "  color: var(--sklearn-color-text);\n",
       "  background-color: var(--sklearn-color-unfitted-level-2);\n",
       "}\n",
       "\n",
       "#sk-container-id-1 div.sk-label.fitted input.sk-toggleable__control:checked~label.sk-toggleable__label {\n",
       "  background-color: var(--sklearn-color-fitted-level-2);\n",
       "}\n",
       "\n",
       "/* Estimator-specific style */\n",
       "\n",
       "/* Colorize estimator box */\n",
       "#sk-container-id-1 div.sk-estimator input.sk-toggleable__control:checked~label.sk-toggleable__label {\n",
       "  /* unfitted */\n",
       "  background-color: var(--sklearn-color-unfitted-level-2);\n",
       "}\n",
       "\n",
       "#sk-container-id-1 div.sk-estimator.fitted input.sk-toggleable__control:checked~label.sk-toggleable__label {\n",
       "  /* fitted */\n",
       "  background-color: var(--sklearn-color-fitted-level-2);\n",
       "}\n",
       "\n",
       "#sk-container-id-1 div.sk-label label.sk-toggleable__label,\n",
       "#sk-container-id-1 div.sk-label label {\n",
       "  /* The background is the default theme color */\n",
       "  color: var(--sklearn-color-text-on-default-background);\n",
       "}\n",
       "\n",
       "/* On hover, darken the color of the background */\n",
       "#sk-container-id-1 div.sk-label:hover label.sk-toggleable__label {\n",
       "  color: var(--sklearn-color-text);\n",
       "  background-color: var(--sklearn-color-unfitted-level-2);\n",
       "}\n",
       "\n",
       "/* Label box, darken color on hover, fitted */\n",
       "#sk-container-id-1 div.sk-label.fitted:hover label.sk-toggleable__label.fitted {\n",
       "  color: var(--sklearn-color-text);\n",
       "  background-color: var(--sklearn-color-fitted-level-2);\n",
       "}\n",
       "\n",
       "/* Estimator label */\n",
       "\n",
       "#sk-container-id-1 div.sk-label label {\n",
       "  font-family: monospace;\n",
       "  font-weight: bold;\n",
       "  display: inline-block;\n",
       "  line-height: 1.2em;\n",
       "}\n",
       "\n",
       "#sk-container-id-1 div.sk-label-container {\n",
       "  text-align: center;\n",
       "}\n",
       "\n",
       "/* Estimator-specific */\n",
       "#sk-container-id-1 div.sk-estimator {\n",
       "  font-family: monospace;\n",
       "  border: 1px dotted var(--sklearn-color-border-box);\n",
       "  border-radius: 0.25em;\n",
       "  box-sizing: border-box;\n",
       "  margin-bottom: 0.5em;\n",
       "  /* unfitted */\n",
       "  background-color: var(--sklearn-color-unfitted-level-0);\n",
       "}\n",
       "\n",
       "#sk-container-id-1 div.sk-estimator.fitted {\n",
       "  /* fitted */\n",
       "  background-color: var(--sklearn-color-fitted-level-0);\n",
       "}\n",
       "\n",
       "/* on hover */\n",
       "#sk-container-id-1 div.sk-estimator:hover {\n",
       "  /* unfitted */\n",
       "  background-color: var(--sklearn-color-unfitted-level-2);\n",
       "}\n",
       "\n",
       "#sk-container-id-1 div.sk-estimator.fitted:hover {\n",
       "  /* fitted */\n",
       "  background-color: var(--sklearn-color-fitted-level-2);\n",
       "}\n",
       "\n",
       "/* Specification for estimator info (e.g. \"i\" and \"?\") */\n",
       "\n",
       "/* Common style for \"i\" and \"?\" */\n",
       "\n",
       ".sk-estimator-doc-link,\n",
       "a:link.sk-estimator-doc-link,\n",
       "a:visited.sk-estimator-doc-link {\n",
       "  float: right;\n",
       "  font-size: smaller;\n",
       "  line-height: 1em;\n",
       "  font-family: monospace;\n",
       "  background-color: var(--sklearn-color-background);\n",
       "  border-radius: 1em;\n",
       "  height: 1em;\n",
       "  width: 1em;\n",
       "  text-decoration: none !important;\n",
       "  margin-left: 0.5em;\n",
       "  text-align: center;\n",
       "  /* unfitted */\n",
       "  border: var(--sklearn-color-unfitted-level-1) 1pt solid;\n",
       "  color: var(--sklearn-color-unfitted-level-1);\n",
       "}\n",
       "\n",
       ".sk-estimator-doc-link.fitted,\n",
       "a:link.sk-estimator-doc-link.fitted,\n",
       "a:visited.sk-estimator-doc-link.fitted {\n",
       "  /* fitted */\n",
       "  border: var(--sklearn-color-fitted-level-1) 1pt solid;\n",
       "  color: var(--sklearn-color-fitted-level-1);\n",
       "}\n",
       "\n",
       "/* On hover */\n",
       "div.sk-estimator:hover .sk-estimator-doc-link:hover,\n",
       ".sk-estimator-doc-link:hover,\n",
       "div.sk-label-container:hover .sk-estimator-doc-link:hover,\n",
       ".sk-estimator-doc-link:hover {\n",
       "  /* unfitted */\n",
       "  background-color: var(--sklearn-color-unfitted-level-3);\n",
       "  color: var(--sklearn-color-background);\n",
       "  text-decoration: none;\n",
       "}\n",
       "\n",
       "div.sk-estimator.fitted:hover .sk-estimator-doc-link.fitted:hover,\n",
       ".sk-estimator-doc-link.fitted:hover,\n",
       "div.sk-label-container:hover .sk-estimator-doc-link.fitted:hover,\n",
       ".sk-estimator-doc-link.fitted:hover {\n",
       "  /* fitted */\n",
       "  background-color: var(--sklearn-color-fitted-level-3);\n",
       "  color: var(--sklearn-color-background);\n",
       "  text-decoration: none;\n",
       "}\n",
       "\n",
       "/* Span, style for the box shown on hovering the info icon */\n",
       ".sk-estimator-doc-link span {\n",
       "  display: none;\n",
       "  z-index: 9999;\n",
       "  position: relative;\n",
       "  font-weight: normal;\n",
       "  right: .2ex;\n",
       "  padding: .5ex;\n",
       "  margin: .5ex;\n",
       "  width: min-content;\n",
       "  min-width: 20ex;\n",
       "  max-width: 50ex;\n",
       "  color: var(--sklearn-color-text);\n",
       "  box-shadow: 2pt 2pt 4pt #999;\n",
       "  /* unfitted */\n",
       "  background: var(--sklearn-color-unfitted-level-0);\n",
       "  border: .5pt solid var(--sklearn-color-unfitted-level-3);\n",
       "}\n",
       "\n",
       ".sk-estimator-doc-link.fitted span {\n",
       "  /* fitted */\n",
       "  background: var(--sklearn-color-fitted-level-0);\n",
       "  border: var(--sklearn-color-fitted-level-3);\n",
       "}\n",
       "\n",
       ".sk-estimator-doc-link:hover span {\n",
       "  display: block;\n",
       "}\n",
       "\n",
       "/* \"?\"-specific style due to the `<a>` HTML tag */\n",
       "\n",
       "#sk-container-id-1 a.estimator_doc_link {\n",
       "  float: right;\n",
       "  font-size: 1rem;\n",
       "  line-height: 1em;\n",
       "  font-family: monospace;\n",
       "  background-color: var(--sklearn-color-background);\n",
       "  border-radius: 1rem;\n",
       "  height: 1rem;\n",
       "  width: 1rem;\n",
       "  text-decoration: none;\n",
       "  /* unfitted */\n",
       "  color: var(--sklearn-color-unfitted-level-1);\n",
       "  border: var(--sklearn-color-unfitted-level-1) 1pt solid;\n",
       "}\n",
       "\n",
       "#sk-container-id-1 a.estimator_doc_link.fitted {\n",
       "  /* fitted */\n",
       "  border: var(--sklearn-color-fitted-level-1) 1pt solid;\n",
       "  color: var(--sklearn-color-fitted-level-1);\n",
       "}\n",
       "\n",
       "/* On hover */\n",
       "#sk-container-id-1 a.estimator_doc_link:hover {\n",
       "  /* unfitted */\n",
       "  background-color: var(--sklearn-color-unfitted-level-3);\n",
       "  color: var(--sklearn-color-background);\n",
       "  text-decoration: none;\n",
       "}\n",
       "\n",
       "#sk-container-id-1 a.estimator_doc_link.fitted:hover {\n",
       "  /* fitted */\n",
       "  background-color: var(--sklearn-color-fitted-level-3);\n",
       "}\n",
       "</style><div id=\"sk-container-id-1\" class=\"sk-top-container\"><div class=\"sk-text-repr-fallback\"><pre>LogisticRegression(C=0.1, max_iter=1000, penalty=&#x27;l1&#x27;, solver=&#x27;liblinear&#x27;)</pre><b>In a Jupyter environment, please rerun this cell to show the HTML representation or trust the notebook. <br />On GitHub, the HTML representation is unable to render, please try loading this page with nbviewer.org.</b></div><div class=\"sk-container\" hidden><div class=\"sk-item\"><div class=\"sk-estimator fitted sk-toggleable\"><input class=\"sk-toggleable__control sk-hidden--visually\" id=\"sk-estimator-id-1\" type=\"checkbox\" checked><label for=\"sk-estimator-id-1\" class=\"sk-toggleable__label fitted sk-toggleable__label-arrow\"><div><div>LogisticRegression</div></div><div><a class=\"sk-estimator-doc-link fitted\" rel=\"noreferrer\" target=\"_blank\" href=\"https://scikit-learn.org/1.6/modules/generated/sklearn.linear_model.LogisticRegression.html\">?<span>Documentation for LogisticRegression</span></a><span class=\"sk-estimator-doc-link fitted\">i<span>Fitted</span></span></div></label><div class=\"sk-toggleable__content fitted\"><pre>LogisticRegression(C=0.1, max_iter=1000, penalty=&#x27;l1&#x27;, solver=&#x27;liblinear&#x27;)</pre></div> </div></div></div></div>"
      ],
      "text/plain": [
       "LogisticRegression(C=0.1, max_iter=1000, penalty='l1', solver='liblinear')"
      ]
     },
     "execution_count": 51,
     "metadata": {},
     "output_type": "execute_result"
    }
   ],
   "source": [
    "#retrain\n",
    "final_model = LogisticRegression(penalty='l1', solver='liblinear', max_iter=1000, C=0.1)\n",
    "final_model.fit(X_train, y_train)"
   ]
  },
  {
   "cell_type": "code",
   "execution_count": 52,
   "metadata": {},
   "outputs": [],
   "source": [
    "#target labels from validation\n",
    "y_val = stat_val_df['pun_label'].values"
   ]
  },
  {
   "cell_type": "code",
   "execution_count": 53,
   "metadata": {},
   "outputs": [
    {
     "name": "stdout",
     "output_type": "stream",
     "text": [
      "Validation Accuracy:  0.828\n",
      "Validation Precision: 0.859\n",
      "Validation Recall:    0.909\n",
      "Validation F1 Score:  0.883\n"
     ]
    }
   ],
   "source": [
    "#evaluate on validation set\n",
    "y_val_pred = final_model.predict(X_val_final)\n",
    "accuracy = accuracy_score(y_val, y_val_pred)\n",
    "precision = precision_score(y_val, y_val_pred)\n",
    "recall = recall_score(y_val, y_val_pred)\n",
    "f1 = f1_score(y_val, y_val_pred)\n",
    "\n",
    "print(f\"Validation Accuracy:  {accuracy:.3f}\")\n",
    "print(f\"Validation Precision: {precision:.3f}\")\n",
    "print(f\"Validation Recall:    {recall:.3f}\")\n",
    "print(f\"Validation F1 Score:  {f1:.3f}\")"
   ]
  },
  {
   "cell_type": "markdown",
   "metadata": {},
   "source": [
    "To evaluate after optimization, we retrain the logistic regression on all folds, then apply the same transformations we did on training data to the test set features, and evaluate final metrics on the test data. "
   ]
  },
  {
   "cell_type": "code",
   "execution_count": 54,
   "metadata": {},
   "outputs": [],
   "source": [
    "y_test = stat_test_df['pun_label'].values\n",
    "y_pred_test = final_model.predict(X_test_final)\n",
    "\n",
    "# final metrics for logistic regression\n",
    "lr_metrics = {\n",
    "    \"model\": \"Logistic Regression\",\n",
    "    \"accuracy\": accuracy_score(y_test, y_pred_test),\n",
    "    \"precision\": precision_score(y_test, y_pred_test),\n",
    "    \"recall\": recall_score(y_test, y_pred_test),\n",
    "    \"f1\": f1_score(y_test, y_pred_test)\n",
    "}"
   ]
  },
  {
   "cell_type": "markdown",
   "metadata": {},
   "source": [
    "From a few iterations of evaluating scores and modifying the model and features, it was concluded that removing the counts of polysemy instances was significantly skewing the model to overinterpret and spike false positives. This could be due to the fact words, when looked up in the synset WordNet collection, were being identified for meanings that were not actually inherent to the context as they should be. Tuning of this feature would be required, which is out of the scope of this assessment, but it would make sense to look at a presence indicator, rather than a count. Note that the SemEval dataset used for this project contains sentences with only one (or no) instance of a pun each, and this occurs in an adjective, major verb, or noun (Miller, T. et al. 2017). Counting any more than this is what is most likely producing the decreased performance. "
   ]
  },
  {
   "cell_type": "code",
   "execution_count": 55,
   "metadata": {},
   "outputs": [
    {
     "name": "stdout",
     "output_type": "stream",
     "text": [
      "Validation Accuracy:  0.826\n",
      "Validation Precision: 0.856\n",
      "Validation Recall:    0.910\n",
      "Validation F1 Score:  0.882\n"
     ]
    }
   ],
   "source": [
    "print(f\"Validation Accuracy:  {lr_metrics['accuracy']:.3f}\")\n",
    "print(f\"Validation Precision: {lr_metrics['precision']:.3f}\")\n",
    "print(f\"Validation Recall:    {lr_metrics['recall']:.3f}\")\n",
    "print(f\"Validation F1 Score:  {lr_metrics['f1']:.3f}\")"
   ]
  },
  {
   "cell_type": "markdown",
   "metadata": {},
   "source": [
    "#### Embedding-Based Model: SimpleT5"
   ]
  },
  {
   "cell_type": "markdown",
   "metadata": {},
   "source": [
    "To compare against an Embedding-Based model we use SimpleT5, which is a Huggingface T5 wrapper that keeps the full scope of the model, but abstracts most of the complexity involved in training T5. I don't have access to a GPU, so most of the power of fine-tuning my T5 model with granular function definitions will not see as much benefit. Using this abstraction is enough to show the scope of capabilities for each model, without focusing too much on code specific optimization. \n",
    "\n",
    "In the CLEF workshop JokeR that focused on a humor detection and translation task, SimpleT5 was evaluated against other transformer models and was found the most optimal and representitive of the embedding-based aproach's ability to contextualize (Gepalova, A. et al., 2024). "
   ]
  },
  {
   "cell_type": "code",
   "execution_count": 1,
   "metadata": {},
   "outputs": [
    {
     "name": "stderr",
     "output_type": "stream",
     "text": [
      "Global seed set to 42\n"
     ]
    }
   ],
   "source": [
    "from simplet5 import SimpleT5"
   ]
  },
  {
   "cell_type": "markdown",
   "metadata": {},
   "source": [
    "SimpleT5 is a Transformer-based text-to-text model. It leverages T5's pre-trained embeddings, which capture deep contextual information in text. It captures nuances of text, including hierarchical and sequential relationships that contribute to its broad context understanding. Because it relies on embeddings over handcrafted features, virtually no feature engineering is required to capture deep and complicated relationships. It's also scalable, and can be fine-tuned on new tasks broader than simple pun disambiguation classification in text.\n",
    "\n",
    "Computational cost is the significant downside of embedding models such as this one. Another less obvious drawback is the lack of interpretability for its predictions, we can't exactly know why the model says what it does. In theory, as long as results are good interpretability shouldn't matter. However, it can be crucial in assurance scenarios, and a valuble thing to understand when using a model for tasks such as these that greatly hinge on human meaning, understnaidng, and interpretation. \n",
    "\n",
    "Elect to use the t5-small pretrained model for this scope, though in future development, it might be worth exploring t5-base or t5-large."
   ]
  },
  {
   "cell_type": "code",
   "execution_count": 47,
   "metadata": {},
   "outputs": [
    {
     "name": "stderr",
     "output_type": "stream",
     "text": [
      "/opt/anaconda3/envs/nlp_env/lib/python3.10/site-packages/transformers/modeling_utils.py:1435: FutureWarning: You are using `torch.load` with `weights_only=False` (the current default value), which uses the default pickle module implicitly. It is possible to construct malicious pickle data which will execute arbitrary code during unpickling (See https://github.com/pytorch/pytorch/blob/main/SECURITY.md#untrusted-models for more details). In a future release, the default value for `weights_only` will be flipped to `True`. This limits the functions that could be executed during unpickling. Arbitrary objects will no longer be allowed to be loaded via this mode unless they are explicitly allowlisted by the user via `torch.serialization.add_safe_globals`. We recommend you start setting `weights_only=True` for any use case where you don't have full control of the loaded file. Please open an issue on GitHub for any issues related to this experimental feature.\n",
      "  state_dict = torch.load(resolved_archive_file, map_location=\"cpu\")\n"
     ]
    }
   ],
   "source": [
    "model = SimpleT5()\n",
    "model.from_pretrained(model_type=\"t5\", model_name=\"t5-small\")"
   ]
  },
  {
   "cell_type": "markdown",
   "metadata": {},
   "source": [
    "I specify these training hyperparameters to set the space for the training task...\n",
    "\n",
    "`source_max_token_len` - Maximum token length for input. I'll set this based on the overall sentence length, but I will take truncation into account.\n",
    "\n",
    "`target_max_token_len` - Maximum token length for output. We're expecting a binary \"pun\" or \"no pun\", but I will set it to **10** to be safe.\n",
    "\n",
    "`batch_size` - Defines how many samples are processed per whatever processor I have during training in each forward/backward pass. I don't have access to a GPU for training, so the smaller batch size can reduce memory use.\n",
    "\n",
    "`max_epochs` - Specifies the number of times the entire training set is passed through the model. For now I set it to **3** epochs only since this is only a binary classification task and I want to avoid overfitting. The dataset is pretty small and pre-trained models like this tend to converge quickly, so I can increase this value as needed (Almeida, F. et al. 2021).\n",
    "\n",
    "`use_gpu` - I don't have a CUDA-enabled computer so this will be set to **False**. "
   ]
  },
  {
   "cell_type": "code",
   "execution_count": 48,
   "metadata": {},
   "outputs": [
    {
     "name": "stderr",
     "output_type": "stream",
     "text": [
      "GPU available: False, used: False\n",
      "TPU available: False, using: 0 TPU cores\n",
      "IPU available: False, using: 0 IPUs\n",
      "\n",
      "  | Name  | Type                       | Params\n",
      "-----------------------------------------------------\n",
      "0 | model | T5ForConditionalGeneration | 60.5 M\n",
      "-----------------------------------------------------\n",
      "60.5 M    Trainable params\n",
      "0         Non-trainable params\n",
      "60.5 M    Total params\n",
      "242.026   Total estimated model params size (MB)\n"
     ]
    },
    {
     "name": "stdout",
     "output_type": "stream",
     "text": [
      "Validation sanity check:   0%|          | 0/2 [00:00<?, ?it/s]"
     ]
    },
    {
     "name": "stderr",
     "output_type": "stream",
     "text": [
      "/opt/anaconda3/envs/nlp_env/lib/python3.10/site-packages/pytorch_lightning/trainer/data_loading.py:132: UserWarning: The dataloader, val_dataloader 0, does not have many workers which may be a bottleneck. Consider increasing the value of the `num_workers` argument` (try 8 which is the number of cpus on this machine) in the `DataLoader` init to improve performance.\n",
      "  rank_zero_warn(\n",
      "Global seed set to 42\n",
      "Global seed set to 42\n"
     ]
    },
    {
     "name": "stdout",
     "output_type": "stream",
     "text": [
      "huggingface/tokenizers: The current process just got forked, after parallelism has already been used. Disabling parallelism to avoid deadlocks...\n",
      "To disable this warning, you can either:\n",
      "\t- Avoid using `tokenizers` before the fork if possible\n",
      "\t- Explicitly set the environment variable TOKENIZERS_PARALLELISM=(true | false)\n",
      "huggingface/tokenizers: The current process just got forked, after parallelism has already been used. Disabling parallelism to avoid deadlocks...\n",
      "To disable this warning, you can either:\n",
      "\t- Avoid using `tokenizers` before the fork if possible\n",
      "\t- Explicitly set the environment variable TOKENIZERS_PARALLELISM=(true | false)\n",
      "                                                                      "
     ]
    },
    {
     "name": "stderr",
     "output_type": "stream",
     "text": [
      "Global seed set to 42\n",
      "/opt/anaconda3/envs/nlp_env/lib/python3.10/site-packages/pytorch_lightning/trainer/data_loading.py:132: UserWarning: The dataloader, train_dataloader, does not have many workers which may be a bottleneck. Consider increasing the value of the `num_workers` argument` (try 8 which is the number of cpus on this machine) in the `DataLoader` init to improve performance.\n",
      "  rank_zero_warn(\n"
     ]
    },
    {
     "name": "stdout",
     "output_type": "stream",
     "text": [
      "Epoch 0:   0%|          | 0/504 [00:00<?, ?it/s] "
     ]
    },
    {
     "name": "stderr",
     "output_type": "stream",
     "text": [
      "Global seed set to 42\n",
      "Global seed set to 42\n"
     ]
    },
    {
     "name": "stdout",
     "output_type": "stream",
     "text": [
      "huggingface/tokenizers: The current process just got forked, after parallelism has already been used. Disabling parallelism to avoid deadlocks...\n",
      "To disable this warning, you can either:\n",
      "\t- Avoid using `tokenizers` before the fork if possible\n",
      "\t- Explicitly set the environment variable TOKENIZERS_PARALLELISM=(true | false)\n",
      "huggingface/tokenizers: The current process just got forked, after parallelism has already been used. Disabling parallelism to avoid deadlocks...\n",
      "To disable this warning, you can either:\n",
      "\t- Avoid using `tokenizers` before the fork if possible\n",
      "\t- Explicitly set the environment variable TOKENIZERS_PARALLELISM=(true | false)\n",
      "Epoch 0:  80%|████████  | 405/504 [06:24<01:34,  1.05it/s, loss=0.268, v_num=3, train_loss_step=0.163] "
     ]
    },
    {
     "name": "stderr",
     "output_type": "stream",
     "text": [
      "Global seed set to 42\n",
      "Global seed set to 42\n"
     ]
    },
    {
     "name": "stdout",
     "output_type": "stream",
     "text": [
      "huggingface/tokenizers: The current process just got forked, after parallelism has already been used. Disabling parallelism to avoid deadlocks...\n",
      "To disable this warning, you can either:\n",
      "\t- Avoid using `tokenizers` before the fork if possible\n",
      "\t- Explicitly set the environment variable TOKENIZERS_PARALLELISM=(true | false)\n",
      "huggingface/tokenizers: The current process just got forked, after parallelism has already been used. Disabling parallelism to avoid deadlocks...\n",
      "To disable this warning, you can either:\n",
      "\t- Avoid using `tokenizers` before the fork if possible\n",
      "\t- Explicitly set the environment variable TOKENIZERS_PARALLELISM=(true | false)\n",
      "Epoch 1:   0%|          | 0/504 [00:00<?, ?it/s, loss=0.272, v_num=3, train_loss_step=0.187, val_loss_step=0.107, val_loss_epoch=0.151, train_loss_epoch=0.469]          "
     ]
    },
    {
     "name": "stderr",
     "output_type": "stream",
     "text": [
      "Global seed set to 42\n",
      "Global seed set to 42\n"
     ]
    },
    {
     "name": "stdout",
     "output_type": "stream",
     "text": [
      "huggingface/tokenizers: The current process just got forked, after parallelism has already been used. Disabling parallelism to avoid deadlocks...\n",
      "To disable this warning, you can either:\n",
      "\t- Avoid using `tokenizers` before the fork if possible\n",
      "\t- Explicitly set the environment variable TOKENIZERS_PARALLELISM=(true | false)\n",
      "huggingface/tokenizers: The current process just got forked, after parallelism has already been used. Disabling parallelism to avoid deadlocks...\n",
      "To disable this warning, you can either:\n",
      "\t- Avoid using `tokenizers` before the fork if possible\n",
      "\t- Explicitly set the environment variable TOKENIZERS_PARALLELISM=(true | false)\n",
      "Epoch 1:  80%|████████  | 405/504 [06:29<01:35,  1.04it/s, loss=0.182, v_num=3, train_loss_step=0.254, val_loss_step=0.107, val_loss_epoch=0.151, train_loss_epoch=0.469]  "
     ]
    },
    {
     "name": "stderr",
     "output_type": "stream",
     "text": [
      "Global seed set to 42\n",
      "Global seed set to 42\n"
     ]
    },
    {
     "name": "stdout",
     "output_type": "stream",
     "text": [
      "huggingface/tokenizers: The current process just got forked, after parallelism has already been used. Disabling parallelism to avoid deadlocks...\n",
      "To disable this warning, you can either:\n",
      "\t- Avoid using `tokenizers` before the fork if possible\n",
      "\t- Explicitly set the environment variable TOKENIZERS_PARALLELISM=(true | false)\n",
      "huggingface/tokenizers: The current process just got forked, after parallelism has already been used. Disabling parallelism to avoid deadlocks...\n",
      "To disable this warning, you can either:\n",
      "\t- Avoid using `tokenizers` before the fork if possible\n",
      "\t- Explicitly set the environment variable TOKENIZERS_PARALLELISM=(true | false)\n",
      "Epoch 2:   0%|          | 0/504 [00:00<?, ?it/s, loss=0.203, v_num=3, train_loss_step=0.0787, val_loss_step=0.0417, val_loss_epoch=0.117, train_loss_epoch=0.175]          "
     ]
    },
    {
     "name": "stderr",
     "output_type": "stream",
     "text": [
      "Global seed set to 42\n",
      "Global seed set to 42\n"
     ]
    },
    {
     "name": "stdout",
     "output_type": "stream",
     "text": [
      "huggingface/tokenizers: The current process just got forked, after parallelism has already been used. Disabling parallelism to avoid deadlocks...\n",
      "To disable this warning, you can either:\n",
      "\t- Avoid using `tokenizers` before the fork if possible\n",
      "\t- Explicitly set the environment variable TOKENIZERS_PARALLELISM=(true | false)\n",
      "huggingface/tokenizers: The current process just got forked, after parallelism has already been used. Disabling parallelism to avoid deadlocks...\n",
      "To disable this warning, you can either:\n",
      "\t- Avoid using `tokenizers` before the fork if possible\n",
      "\t- Explicitly set the environment variable TOKENIZERS_PARALLELISM=(true | false)\n",
      "Epoch 2:  80%|████████  | 405/504 [05:37<01:22,  1.20it/s, loss=0.133, v_num=3, train_loss_step=0.178, val_loss_step=0.0417, val_loss_epoch=0.117, train_loss_epoch=0.175]  "
     ]
    },
    {
     "name": "stderr",
     "output_type": "stream",
     "text": [
      "Global seed set to 42\n",
      "Global seed set to 42\n"
     ]
    },
    {
     "name": "stdout",
     "output_type": "stream",
     "text": [
      "huggingface/tokenizers: The current process just got forked, after parallelism has already been used. Disabling parallelism to avoid deadlocks...\n",
      "To disable this warning, you can either:\n",
      "\t- Avoid using `tokenizers` before the fork if possible\n",
      "\t- Explicitly set the environment variable TOKENIZERS_PARALLELISM=(true | false)\n",
      "huggingface/tokenizers: The current process just got forked, after parallelism has already been used. Disabling parallelism to avoid deadlocks...\n",
      "To disable this warning, you can either:\n",
      "\t- Avoid using `tokenizers` before the fork if possible\n",
      "\t- Explicitly set the environment variable TOKENIZERS_PARALLELISM=(true | false)\n",
      "Epoch 2: 100%|██████████| 504/504 [06:09<00:00,  1.36it/s, loss=0.128, v_num=3, train_loss_step=0.0703, val_loss_step=0.110, val_loss_epoch=0.111, train_loss_epoch=0.129]\n"
     ]
    }
   ],
   "source": [
    "model.train(\n",
    "    train_df=train_df,\n",
    "    eval_df=val_df,\n",
    "    source_max_token_len=128,\n",
    "    target_max_token_len=10,\n",
    "    batch_size=8,\n",
    "    max_epochs=3,\n",
    "    use_gpu=False\n",
    ")"
   ]
  },
  {
   "cell_type": "markdown",
   "metadata": {},
   "source": [
    "During training, SimpleT5 logs loss and validation metrics after each epoch. Note that SimpleT5 primarily logs loss values. Eventually when the experiment might move to more granular finetuning with a model such as T5ForConditionalGeneration, we can specify the evaluation function step with more control over hyperparameters.\n",
    "\n",
    "Models developed from each epoch will be stored in a new directory outputs created during training. The trainer automatically will save the best models during training by a metric, in this case loss."
   ]
  },
  {
   "cell_type": "markdown",
   "metadata": {},
   "source": [
    "As we can see, the specific model used here is the T5ForConditionalGeneration model. The architecture of this model in particularly leverages the transformer model's ability to capture long-range dependencies in text. While not exactly applicable here, this indirectly effects the models attention mechanism that weighs the significance of different parts of a sentence, facilitating classification across a greater dependency distance. This is similar to something we attempt to capture as a dependency feature in the logistic regression model."
   ]
  },
  {
   "cell_type": "code",
   "execution_count": 2,
   "metadata": {},
   "outputs": [
    {
     "name": "stderr",
     "output_type": "stream",
     "text": [
      "/opt/anaconda3/envs/nlp_env/lib/python3.10/site-packages/transformers/modeling_utils.py:1435: FutureWarning: You are using `torch.load` with `weights_only=False` (the current default value), which uses the default pickle module implicitly. It is possible to construct malicious pickle data which will execute arbitrary code during unpickling (See https://github.com/pytorch/pytorch/blob/main/SECURITY.md#untrusted-models for more details). In a future release, the default value for `weights_only` will be flipped to `True`. This limits the functions that could be executed during unpickling. Arbitrary objects will no longer be allowed to be loaded via this mode unless they are explicitly allowlisted by the user via `torch.serialization.add_safe_globals`. We recommend you start setting `weights_only=True` for any use case where you don't have full control of the loaded file. Please open an issue on GitHub for any issues related to this experimental feature.\n",
      "  state_dict = torch.load(resolved_archive_file, map_location=\"cpu\")\n"
     ]
    }
   ],
   "source": [
    "model = SimpleT5() #to use ad hoc\n",
    "model.load_model(\"t5\", \"outputs/simplet5-epoch-2-train-loss-0.129-val-loss-0.1111\", use_gpu=False)"
   ]
  },
  {
   "cell_type": "markdown",
   "metadata": {},
   "source": [
    "From here using the model to generate some predictions by loading the validation data and testing it on the trained model, allows final metric computation. In this method, `predictions` is a list of strings, either \"pun\" or \"not pun\" assuming the model learned well."
   ]
  },
  {
   "cell_type": "code",
   "execution_count": 13,
   "metadata": {},
   "outputs": [],
   "source": [
    "test_sentences = embed_test_df['source_text'].tolist()\n",
    "predictions = []\n",
    "for sentence in test_sentences:\n",
    "    pred = model.predict(sentence)  # model returns a list of predictions\n",
    "    predictions.append(pred[0])  # extract the first (and only) prediction"
   ]
  },
  {
   "cell_type": "markdown",
   "metadata": {},
   "source": [
    "Finally using these predictions, map the string values back to their binary, \"pun\" -> 1 , \"not pun\" -> 0 to compare with ground truth labels."
   ]
  },
  {
   "cell_type": "code",
   "execution_count": 14,
   "metadata": {},
   "outputs": [],
   "source": [
    "predicted_labels_test = [1 if pred.strip().lower() == \"pun\" else 0 for pred in predictions]\n",
    "true_labels_test = [1 if validation.strip().lower() == \"pun\" else 0 for validation in embed_test_df['target_text']]"
   ]
  },
  {
   "cell_type": "code",
   "execution_count": 15,
   "metadata": {},
   "outputs": [
    {
     "name": "stdout",
     "output_type": "stream",
     "text": [
      "SimpleT5 Model Performance on Test Set:\n",
      "Accuracy:  0.900\n",
      "Precision: 0.922\n",
      "Recall:    0.939\n",
      "F1 Score:  0.930\n"
     ]
    }
   ],
   "source": [
    "#calculating test accuracy with accuracy score\n",
    "acc_test = accuracy_score(true_labels_test, predicted_labels_test)\n",
    "prec_test = precision_score(true_labels_test, predicted_labels_test)\n",
    "rec_test = recall_score(true_labels_test, predicted_labels_test)\n",
    "f1_test = f1_score(true_labels_test, predicted_labels_test)\n",
    "\n",
    "# display the results\n",
    "print(\"SimpleT5 Model Performance on Test Set:\")\n",
    "print(f\"Accuracy:  {acc_test:.3f}\")\n",
    "print(f\"Precision: {prec_test:.3f}\")\n",
    "print(f\"Recall:    {rec_test:.3f}\")\n",
    "print(f\"F1 Score:  {f1_test:.3f}\")"
   ]
  },
  {
   "cell_type": "code",
   "execution_count": 16,
   "metadata": {},
   "outputs": [],
   "source": [
    "simplet5_metrics = {\n",
    "    \"model\": \"SimpleT5\",\n",
    "    \"accuracy\": acc_test,\n",
    "    \"precision\": prec_test,\n",
    "    \"recall\": rec_test,\n",
    "    \"f1\": f1_test\n",
    "}"
   ]
  },
  {
   "cell_type": "markdown",
   "metadata": {},
   "source": [
    "## III. Conclusions"
   ]
  },
  {
   "cell_type": "code",
   "execution_count": 57,
   "metadata": {},
   "outputs": [
    {
     "data": {
      "text/html": [
       "<div>\n",
       "<style scoped>\n",
       "    .dataframe tbody tr th:only-of-type {\n",
       "        vertical-align: middle;\n",
       "    }\n",
       "\n",
       "    .dataframe tbody tr th {\n",
       "        vertical-align: top;\n",
       "    }\n",
       "\n",
       "    .dataframe thead th {\n",
       "        text-align: right;\n",
       "    }\n",
       "</style>\n",
       "<table border=\"1\" class=\"dataframe\">\n",
       "  <thead>\n",
       "    <tr style=\"text-align: right;\">\n",
       "      <th></th>\n",
       "      <th>model</th>\n",
       "      <th>accuracy</th>\n",
       "      <th>precision</th>\n",
       "      <th>recall</th>\n",
       "      <th>f1</th>\n",
       "    </tr>\n",
       "  </thead>\n",
       "  <tbody>\n",
       "    <tr>\n",
       "      <th>0</th>\n",
       "      <td>Logistic Regression</td>\n",
       "      <td>0.826303</td>\n",
       "      <td>0.856209</td>\n",
       "      <td>0.909722</td>\n",
       "      <td>0.882155</td>\n",
       "    </tr>\n",
       "    <tr>\n",
       "      <th>1</th>\n",
       "      <td>Multinomial Naive Bayes</td>\n",
       "      <td>0.785360</td>\n",
       "      <td>0.781032</td>\n",
       "      <td>0.972222</td>\n",
       "      <td>0.866203</td>\n",
       "    </tr>\n",
       "    <tr>\n",
       "      <th>2</th>\n",
       "      <td>SimpleT5</td>\n",
       "      <td>0.899504</td>\n",
       "      <td>0.921635</td>\n",
       "      <td>0.939236</td>\n",
       "      <td>0.930353</td>\n",
       "    </tr>\n",
       "  </tbody>\n",
       "</table>\n",
       "</div>"
      ],
      "text/plain": [
       "                     model  accuracy  precision    recall        f1\n",
       "0      Logistic Regression  0.826303   0.856209  0.909722  0.882155\n",
       "1  Multinomial Naive Bayes  0.785360   0.781032  0.972222  0.866203\n",
       "2                 SimpleT5  0.899504   0.921635  0.939236  0.930353"
      ]
     },
     "execution_count": 57,
     "metadata": {},
     "output_type": "execute_result"
    }
   ],
   "source": [
    "results = pd.read_csv('results.csv') #load from saved final results\n",
    "results.head()"
   ]
  },
  {
   "cell_type": "markdown",
   "metadata": {},
   "source": [
    "SimpleT5 excels across all metrics, with the highest overall accuracy and an F1 score of around 93%. \n",
    "\n",
    "All models have pretty strong recall metrics. Logistic Regression achieved perfect recall (100%) which indicates it successfully identified all puns in the test set, but at the cost of lower precision. Multinominal Naive Bayes and SimpleT5 also show strong recall that balance with precision a little better. \n",
    "\n",
    "The precision gap between Logistic Regression model and the SimpleT5 model notes the significant false-positive rate in the logistic regression's predictions."
   ]
  },
  {
   "cell_type": "markdown",
   "metadata": {},
   "source": [
    "### 3.1 Performance Analysis & Comparison"
   ]
  },
  {
   "cell_type": "code",
   "execution_count": 58,
   "metadata": {},
   "outputs": [
    {
     "data": {
      "image/png": "[encoded data removed]",
      "text/plain": [
       "<Figure size 1200x800 with 4 Axes>"
      ]
     },
     "metadata": {},
     "output_type": "display_data"
    }
   ],
   "source": [
    "#graph performance metrics \n",
    "metrics = ['accuracy', 'precision', 'recall', 'f1']\n",
    "fig, axes = plt.subplots(2, 2, figsize=(12, 8))  # 2x2 grid\n",
    "axes = axes.flatten()\n",
    "for i, metric in enumerate(metrics):\n",
    "    axes[i].bar(results['model'], results[metric], color=['skyblue', 'orange', 'green'])\n",
    "    axes[i].set_title(f'{metric} Comparison')\n",
    "    axes[i].set_ylim(0, 1.05)\n",
    "    axes[i].set_ylabel(metric)\n",
    "    axes[i].set_xlabel('Model')\n",
    "plt.tight_layout()\n",
    "plt.show()"
   ]
  },
  {
   "cell_type": "markdown",
   "metadata": {},
   "source": [
    "`Logistic Regression`\n",
    "\n",
    "With a pretty strong recall and high precision, the F1 remains pretty balanced for this model, suggesting that the model didn't just blindly overpredict puns and might actually benefit from effective feature engineering. Handcrafted features likely emphasized ambiguity and wordplay cues, enabling the model to detect puns more effectively. The decision boundary however seems to have failed at least a little to capture non-linear interactions or deeper contextual nuances.\n",
    "\n",
    "`Multinomial Naive Bayes - Baseline` \n",
    "\n",
    "The bag of words foundation of this model may have benefitted from the pun-specific words or n-grams which inflated the statistical significance and pattern recognition in the text, but didn't entirely capture deeper context or semantic nuances. Pun-related words and recurring n-grams probably boosted recall, but the absence of deeper semantic understanding led to false positives and limited precision. \n",
    "\n",
    "`SimpleT5` \n",
    "\n",
    "Clearly dominates all metrics, indicating its contexxtual embeddings can resolve ambiguities - e.g. homo and heterographic puns. It required however, significantly more computational resources to fine-tune and deploy compared to the lighter weight statistical approaches, and it was less obvious exactly what it missed and why. "
   ]
  },
  {
   "cell_type": "markdown",
   "metadata": {},
   "source": [
    "The statistical logistic regression model offered interpretability where coefficients directly impact feature importance, and the emphasis placed on encapsulating the challenges presented in the task proved was effective. The linear assumption that constrains models like this tend to consistently fail to capture intricate linguistic patterns or context-based pun structures, and performance ends up hinging on the comprehensive feature design. From research and the results of this experiment, it seems that this approach consistently hits the upper bound of the lowest class, tending to be outperformed by deeper architectures on tasks such as these.\n",
    "\n",
    "The baseline Multinomial Naive Bayes model did an effective job showcasing the strengths of statistical approaches and where they fall short with subjective text interpretation tasks. The statistical assumptions inherent to this implementation ignores inter-dependencies and context that will consistently have a negative effect on disproportionate false positive. \n",
    "\n",
    "The SimpleT5 embedding model captures semantic subtleties and polysemy inherent to puns and consistently learns relevant features end-to-end without needing to tweak much or give it any sort of \"interpretation\" ability, as you would have to with statistical models. It has the most coverage, with the only downsides being computational power requirements - especially for more granularity - and lack of transparency into exactly why a pun was detected. The embedding model's ability to capture multi-token semantics and extensively context is what helps it handle ambiguous linguistics structures more effectively."
   ]
  },
  {
   "cell_type": "markdown",
   "metadata": {},
   "source": [
    "Based on the results of this exploration, it would be beneficial to use statistical models for subjective text interpretation tasks when the data to work with is small, which is pretty common for humor or disambiguation datasets. Being able to interpret exactly which linguistic cues signal a pun offers a unique strength, and can offer a new way to understand the effects of linguistic features on how humor (or more broadly, meaning) is expressed textually. \n",
    "\n",
    "The rich context and ability to capture subtlety of the embedding model approach by virtue of deeper representation learning is why, for highly contextual or complex pun/subjective word useage, embedding models will most likely outperform by default, and with GPU availibility, offer extremely competitive accuracies. "
   ]
  },
  {
   "cell_type": "markdown",
   "metadata": {},
   "source": [
    "### 3.2 Summary & Reflection"
   ]
  },
  {
   "cell_type": "markdown",
   "metadata": {},
   "source": [
    "This exploration investigated the use of a logistic regression model that represented an optimized statistical approach, and a SimpleT5 embedding-based model approach for pun detection - a task that inherently requires some sort of handling of linguistic ambiguity. The Multinomial Naive Bayes model sserved as a baseline, offering quick and straightforward bag-of-words perspective, representitive of the general strengths of even very basic statistical models. Each model was evaluated on a prepared dataset (SemEval 2017 Task 7) that featured the dimensions of complexities of puns, including homo and heterographic puns, exposing both models to semantic and phonetic ambiguities. \n",
    "\n",
    "The Logistic Regression approach tested demonstrated that well-engineered features that capture as much perspective as possible can achieve a respectable and competitive balance between precision and recall. The limitations its linear assumptions and reliance on manual feature crafting limit both capacity and ability to scale to capture more complex situations. SimpleT5 contrasts this - while requiring greater time and computaitonal resources - excelling in all performance metrics.\n",
    "\n",
    "From a practical standpoint, traditional statistical models are attractive for smaller-scale scenarios where interpretability matters and resource constraints might effect the quality of embedding-model predictions. Embedding-based models do great in complex text spaces where higher accuracy and robust context understanding outweigh whatever interpretability or verification concerns that might arise. The work done in this report contributes to the broader domain of subjective text classification by practically exploring how pun-detection can serve as a benchmark for understanding a model or model approach's ability to handle ambiguity and subtlety. \n",
    "\n",
    "This project sets up for an interesting research space and presents the idea of the extent we can use statistical approaches that quantify the subjective qualities of text to allow for recognition of new patterns for analysis, to enhance and even go as far as interpret results of embedding-based neural models. The framework established sets up for this and extension into related text classification tasks such as sarcasm detection or metaphor processing. The core methodology, balancing interpretability, resources, and performance, is transferrable to other problems within this domain, and even other domain-specific areas that could be used as context to explore and be supported by subjective of creative language pattern interpretation. "
   ]
  },
  {
   "cell_type": "markdown",
   "metadata": {},
   "source": [
    "## IV. References\n",
    "\n",
    "[1] Salvatore Attardo. 1994. Linguistic Theories of Humor. Mouton de Gruyter.\n",
    "\n",
    "[2] Popova, O., & Dadic, P. (2023). Does AI Have a Sense of Humor? CLEF 2023 JOKER Tasks 1, 2 and 3: Using BLOOM, GPT, SimpleT5, and More for Pun Detection, Location, Interpretation and Translation. Conference and Labs of the Evaluation Forum.\n",
    "\n",
    "[3] Gepalova, A., Chifu, A.-G., & Fournier, S. (2024). CLEF 2024 Joker Task 1: Exploring Pun Detection Using The T5 Transformer Model Notebook for the JOKER Lab at CLEF 2024\n",
    "\n",
    "[4] Miller, T., & Gurevych, I. (n.d.). Automatic disambiguation of English puns. Ubiquitous Knowledge Processing Lab (UKP-TUDA), Department of Computer Science, Technische Universität Darmstadt. https://www.ukp.tu-darmstadt.de/\n",
    "\n",
    "[5]Miller, T., Hempelmann, C. F., & Gurevych, I. (2017). SemEval-2017 Task 7: Detection and Interpretation of English Puns. In Proceedings of the 11th International Workshop on Semantic Evaluation (SemEval-2017) (pp. 58-68). Association for Computational Linguistics7\n",
    "\n",
    "[6]Miller, T., & Turković, M. (2016). Towards the automatic detection and identification of English puns. ACM Transactions on Speech and Language Processing, 13(1), 1-30\n",
    "\n",
    "[7]Prnjak, A., Davari, D. R., & Schmitt, K. (2023). CLEF 2023 JOKER Task 1, 2, 3: Pun Detection, Pun Interpretation, and Pun Translation. In G. Faggioli, N. Ferro, A. Hanbury, & M. Potthast (Eds.), CEUR Workshop Proceedings: Vol. 3497. Working Notes of CLEF 2023 - Conference and Labs of the Evaluation Forum.\n",
    "\n",
    "[8]Feng, J., Sevgili, Ö., Remus, S., Ruppert, E., & Biemann, C. (2020). Supervised Pun Detection and Location with Feature Engineering and Logistic Regression. In Proceedings of the 5th SwissText & 16th KONVENS Joint Conference. CEUR Workshop Proceedings, 2624.\n",
    "\n",
    "[9]Rayz, J.T., & Mazlack, L.J. (2004). Computationally Recognizing Wordplay in Jokes.\n",
    "\n",
    "[10]Dessì, D., Helaoui, R., Kumar, V., Recupero, D. R., & Riboni, D. (n.d.). TF-IDF vs Word Embeddings for Morbidity Identification in Clinical Notes: An Initial Study.\n",
    "\n",
    "[11]GeeksforGeeks. (2024, June 20). Logistic Regression in Machine Learning. https://www.geeksforgeeks.org/understanding-logistic-regression/\n",
    "\n",
    "[12]Bird, S., Klein, E., & Loper, E. (n.d.). WordNet Interface. Natural Language Toolkit. Retrieved January 4, 2025, from https://www.nltk.org/howto/wordnet.html\n",
    "\n",
    "[13]Mann–Whitney U test. (2024). In Wikipedia. Retrieved January 4, 2025, from https://en.wikipedia.org/wiki/Mann%E2%80%93Whitney_U_test\n",
    "\n",
    "[14]Scikit-learn developers. (n.d.). sklearn.preprocessing.StandardScaler. scikit-learn. Retrieved January 4, 2025, from https://scikit-learn.org/1.5/modules/generated/sklearn.preprocessing.StandardScaler.html\n",
    "\n",
    "[15]Almeida, F., & Duarte Santos, J. (2021). The role of artificial intelligence in clinical trials: A systematic review. Clinical and Translational Science, 14(5), 1765-1776. https://doi.org/10.1111/cts.13077"
   ]
  }
 ],
 "metadata": {
  "kernelspec": {
   "display_name": ".conda",
   "language": "python",
   "name": "python3"
  },
  "language_info": {
   "codemirror_mode": {
    "name": "ipython",
    "version": 3
   },
   "file_extension": ".py",
   "mimetype": "text/x-python",
   "name": "python",
   "nbconvert_exporter": "python",
   "pygments_lexer": "ipython3",
   "version": "3.11.11"
  }
 },
 "nbformat": 4,
 "nbformat_minor": 2
}
